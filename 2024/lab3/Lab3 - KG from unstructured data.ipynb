{
 "cells": [
  {
   "cell_type": "markdown",
   "metadata": {},
   "source": [
    "# 📚 Lab3: KG from unstructured data\n",
    "\n",
    "**Goal** of the session: extract and normalize concepts from natural language text, and generate a RDF knowledge graph with those concepts.\n",
    "\n",
    "**Tasks**:\n",
    "1. **Extract** disease mentions from an english text about climate change (Named Entity Recognition, aka. NER)\n",
    "2. **Normalize** the extracted diseases by mapping to standard concepts in a relevant ontology (Semantic similarity search, aka. vector databases)\n",
    "3. Create a **RDF knowledge graph** for the extracted diseases annotations, using the [Text Annotation Ontology](https://vemonet.github.io/tao). The KG should contain:\n",
    "    * The extracted diseases text annotations (start/end index, value in the text)\n",
    "    * Linked to their top match ontology concept URI\n",
    "    * Linked to the sentence they can be found in (create 1 URI per sentence in the text)"
   ]
  },
  {
   "cell_type": "code",
   "execution_count": 1,
   "metadata": {},
   "outputs": [],
   "source": [
    "annotate_text = \"\"\"As world leaders gather on Monday for the Climate Action Summit at the UN General Assembly, it is sadly clear that the prospect of rising global temperatures and sea levels has failed to generate a sufficient sense of urgency around climate change. What might spur leaders to action, if it were better understood, is the enormous threat that climate change already poses to human health.\\nClimate change exacerbates chronic and contagious disease, worsens food and water shortages, increases the risk of pandemics, and aggravates mass displacement. The broad environmental effects of climate change have long been discussed as long-term risks; what\\u2019s clear now is that the health effects are worse than anticipated\\u2014and that they\\u2019re already being felt.\\nCLIMATE ILLS\n",
    "The dangerous health effects of climate change begin with the emissions that cause it. Black carbon, methane, and nitrogen oxides are powerful drivers of global warming, and, along with other air pollutants such as carbon monoxide and ozone, they are responsible for over seven million deaths each year, about one in eight worldwide. The problem extends beyond cities with famously poor air quality, such as New Delhi, Beijing, and S\\u00e3o Paulo. Ninety percent of the world\\u2019s urban dwellers breathe air containing unsafe pollution levels, according to the World Health Organization (WHO).\\nThe dangers start at the beginning of life. Toxic pollutants cross the placenta, increasing the risk of preterm birth and low birth weight, which can cause lifelong damage to multiple organ systems. Children breathe more rapidly than adults do, so they absorb more pollutants at a time when their developing organs are more vulnerable. As a result, air pollution causes an estimated 600,000 deaths each year in children under five, mostly from pneumonia. There is also emerging evidence that air pollution compromises children\\u2019s cognitive development and can increase their risk of behavioral disorders.\n",
    "In adults, pollution contributes to a wide range of respiratory and circulatory diseases, and may accelerate cognitive decline in seniors. Most air-pollution-related deaths are due to heart attacks and strokes, but ambient air pollution also accounts for a significant number of pneumonia, asthma, emphysema, and lung cancer deaths.\\nIn addition to air pollution, emissions are responsible for rising global temperatures. These in turn lead to increased humidity and cause more frequent and intense heat waves that worsen hypertension and mental health problems, and can limit the effectiveness of certain medications. When a person\\u2019s body temperature rises to 104 degrees Fahrenheit or above, systematic organ failure occurs. Heat waves this summer killed 1,435 people in France alone, the only country to have published statistics on heat-related deaths. As many of the world\\u2019s major population centers grow hotter and more humid, more people will die from simply overheating.\n",
    "Climate change also compounds the threat of communicable diseases. Increased rainfall and higher temperatures favor vector-borne diseases\\u2014those caused by parasites, viruses, and bacteria transmitted by mosquitoes, ticks, flies, and fleas. Cold-blooded insects generally prefer warmer temperatures, which not only extend their breeding seasons but accelerate their geographical expansion.\n",
    "As man-made climate change has taken hold over the last four decades, dozens of new infectious diseases have emerged or begun to threaten new regions, including Zika and Ebola.\n",
    "The mosquito is already the deadliest animal in the world, causing more than half a million deaths each year\\u2014438,000 of them from malaria. Warmer temperatures make it easier to transmit malaria at higher altitudes, and may cause it to spread farther into African highlands.\n",
    "Another virus likely to spread as a result of climate change is dengue, which currently infects 96 million people each year and kills 90,000 of them. Dengue virus is transmitted by two species of mosquito\\u2014Aedes aegypti and Aedes albopictus\\u2014that are unusually tough and also transmit yellow fever, Zika, West Nile, and other viruses. More than half the world\\u2019s population lives in areas where an Aedes species is already present\\u2014and that proportion is likely to grow. A. aegypti in particular thrives not only in warm and moist environments but in drought-prone ones, too. Europe, North America, and high-elevation areas in the tropics may soon have to contend with dengue as well as other emerging diseases.\\nThe steady swarm of Aedes into new regions points to the single biggest threat of all: pandemic disease. As man-made climate change has taken hold over the last four decades, dozens of new infectious diseases have emerged or begun to threaten new regions, including Zika and Ebola. Cholera is also becoming more difficult to control: warm, brackish waters and rising sea levels help spread the disease, which infects about four million people each year and kills about 100,000 of them. Bubonic plague, spread by rats and fleas, is predicted to increase with warmer springs and wetter summers. Anthrax, whose spores are released by thawing permafrost, could spread farther as a result of stronger winds.\\nAnd those are just the direct health effects of climate change. Rising sea levels and increased ocean acidification will reduce fishing and aquaculture, aggravating malnutrition and food insecurity. Contamination of aquifers will exacerbate water shortages. Droughts, which already kill and displace more people than any other type of weather catastrophe, are predicted to grow longer and more frequent. The World Bank estimates that by 2050, there could be one billion climate refugees from sub-Saharan Africa, South Asia, and Latin America.\\nA HEALTHY RESPONSE\\nExtreme weather also disrupts public health infrastructure and services. That is why it is imperative that countries around the world invest in adapting health-care systems to the environmental changes already underway and likely to follow. At the first high-level meeting on Universal Health Coverage (UHC) at the United Nations, the WHO will call on world leaders to invest not only in safe water, hygiene, and sanitation services but also in universal access to health services for chronic disease, child health, and antenatal and palliative care. Almost every disease caused or aggravated by climate change can be prevented or treated if addressed early. Unfortunately, the WHO projects that by 2030, 42 percent of the world\\u2019s population will either not have access to health services or not be able to afford them.\n",
    "Universal health coverage includes screening and accurate and timely diagnostics. It also includes surveillance and rapid response to emerging global health threats.\n",
    "The world has tended to fight such threats one disease at a time\\u2014whether it is smallpox, polio, TB, HIV/AIDS, or malaria\\u2014and to adopt a firefighting approach when a deadly pandemic such as Ebola emerges.\n",
    "\"\"\"\n"
   ]
  },
  {
   "cell_type": "code",
   "execution_count": 4,
   "metadata": {},
   "outputs": [
    {
     "name": "stdout",
     "output_type": "stream",
     "text": [
      "Requirement already satisfied: requests in /home/vemonet/dev/courses/UM_KEN4256_KnowledgeGraphs/.venv/lib/python3.10/site-packages (2.31.0)\n",
      "Requirement already satisfied: oxrdflib in /home/vemonet/dev/courses/UM_KEN4256_KnowledgeGraphs/.venv/lib/python3.10/site-packages (0.3.6)\n",
      "Requirement already satisfied: urllib3<3,>=1.21.1 in /home/vemonet/dev/courses/UM_KEN4256_KnowledgeGraphs/.venv/lib/python3.10/site-packages (from requests) (2.2.1)\n",
      "Requirement already satisfied: certifi>=2017.4.17 in /home/vemonet/dev/courses/UM_KEN4256_KnowledgeGraphs/.venv/lib/python3.10/site-packages (from requests) (2024.2.2)\n",
      "Requirement already satisfied: charset-normalizer<4,>=2 in /home/vemonet/dev/courses/UM_KEN4256_KnowledgeGraphs/.venv/lib/python3.10/site-packages (from requests) (3.3.2)\n",
      "Requirement already satisfied: idna<4,>=2.5 in /home/vemonet/dev/courses/UM_KEN4256_KnowledgeGraphs/.venv/lib/python3.10/site-packages (from requests) (3.6)\n",
      "Requirement already satisfied: pyoxigraph~=0.3.14 in /home/vemonet/dev/courses/UM_KEN4256_KnowledgeGraphs/.venv/lib/python3.10/site-packages (from oxrdflib) (0.3.22)\n",
      "Requirement already satisfied: rdflib<8.0,>=6.3 in /home/vemonet/dev/courses/UM_KEN4256_KnowledgeGraphs/.venv/lib/python3.10/site-packages (from oxrdflib) (7.0.0)\n",
      "Requirement already satisfied: pyparsing<4,>=2.1.0 in /home/vemonet/dev/courses/UM_KEN4256_KnowledgeGraphs/.venv/lib/python3.10/site-packages (from rdflib<8.0,>=6.3->oxrdflib) (3.1.1)\n",
      "Requirement already satisfied: isodate<0.7.0,>=0.6.0 in /home/vemonet/dev/courses/UM_KEN4256_KnowledgeGraphs/.venv/lib/python3.10/site-packages (from rdflib<8.0,>=6.3->oxrdflib) (0.6.1)\n",
      "Requirement already satisfied: six in /home/vemonet/dev/courses/UM_KEN4256_KnowledgeGraphs/.venv/lib/python3.10/site-packages (from isodate<0.7.0,>=0.6.0->rdflib<8.0,>=6.3->oxrdflib) (1.16.0)\n"
     ]
    }
   ],
   "source": [
    "import sys\n",
    "!{sys.executable} -m pip install requests oxrdflib"
   ]
  },
  {
   "cell_type": "markdown",
   "metadata": {},
   "source": [
    "## 1. ⛏️ Extract entities"
   ]
  },
  {
   "cell_type": "markdown",
   "metadata": {},
   "source": [
    "## 2. 🔗 Map to diseases concepts in an ontology"
   ]
  },
  {
   "cell_type": "markdown",
   "metadata": {},
   "source": [
    "## 3. 🕸️ Generate RDF"
   ]
  }
 ],
 "metadata": {
  "kernelspec": {
   "display_name": ".venv",
   "language": "python",
   "name": "python3"
  },
  "language_info": {
   "codemirror_mode": {
    "name": "ipython",
    "version": 3
   },
   "file_extension": ".py",
   "mimetype": "text/x-python",
   "name": "python",
   "nbconvert_exporter": "python",
   "pygments_lexer": "ipython3",
   "version": "3.10.12"
  }
 },
 "nbformat": 4,
 "nbformat_minor": 2
}
