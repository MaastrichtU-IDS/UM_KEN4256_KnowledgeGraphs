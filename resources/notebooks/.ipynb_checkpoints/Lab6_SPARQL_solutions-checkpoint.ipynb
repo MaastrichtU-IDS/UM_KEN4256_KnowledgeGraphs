{
 "cells": [
  {
   "cell_type": "markdown",
   "metadata": {
    "slideshow": {
     "slide_type": "slide"
    }
   },
   "source": [
    "# KEN 4256: Lab 6 solutions\n"
   ]
  },
  {
   "cell_type": "markdown",
   "metadata": {},
   "source": [
    "### Writing and executing basic SPARQL queries on RDF graphs\n",
    "\n",
    "##### Authors:\n",
    "+ [Vincent Emonet](https://www.maastrichtuniversity.nl/vincent.emonet): [vincent.emonet@maastrichtuniversity.nl](mailto:vincent.emonet@maastrichtuniversity.nl)\n",
    "+ [Kody Moodley](https://www.maastrichtuniversity.nl/kody.moodley): [kody.moodley@maastrichtuniversity.nl](mailto:kody.moodley@maastrichtuniversity.nl)\n",
    "\n",
    "##### Affiliation: \n",
    "[Institute of Data Science](https://www.maastrichtuniversity.nl/research/institute-data-science)\n",
    "\n",
    "##### License:\n",
    "[CC-BY 2.0](https://creativecommons.org/licenses/by/2.0/legalcode)\n",
    "\n",
    "##### Date:\n",
    "2021-02-26"
   ]
  },
  {
   "cell_type": "markdown",
   "metadata": {},
   "source": [
    "#### In this lab you will learn:\n",
    "\n",
    "How to compose basic [SPARQL](https://www.w3.org/TR/2013/REC-sparql11-query-20130321/) [SELECT](https://www.w3.org/TR/2013/REC-sparql11-query-20130321/#select) queries to retrieve specific information from an [RDF](https://www.w3.org/TR/rdf11-concepts/) graph, and to answer questions about its content\n",
    "\n",
    "#### Specific learning goals:\n",
    "\n",
    "+ How to select the appropriate SPARQL feature(s) or function(s) required to answer the given question or retrieve the result asked for\n",
    "+ How to represent the retrieval of information from a triplestore using triple patterns and basic graph patterns in SELECT queries\n",
    "+ How to query existing public SPARQL endpoints using tools such as [YASGUI](https://yasgui.triply.cc)"
   ]
  },
  {
   "cell_type": "markdown",
   "metadata": {},
   "source": [
    "#### Prerequisite knowledge: \n",
    "+ [Lecture 6: Introduction to SPARQL](https://canvas.maastrichtuniversity.nl/courses/4700/files/559320?module_item_id=115828)\n",
    "+ [SPARQL 1.1 language specification](https://www.w3.org/TR/sparql11-query/)\n",
    "+ Chapters 1 - 3 of [Learning SPARQL](https://maastrichtuniversity.on.worldcat.org/external-search?queryString=SPARQL#/oclc/853679890)"
   ]
  },
  {
   "cell_type": "markdown",
   "metadata": {
    "slideshow": {
     "slide_type": "slide"
    }
   },
   "source": [
    "#### Task information:\n",
    "\n",
    "+ In this lab, we will ask you to query the [DBpedia](https://dbpedia.org/) knowledge graph!\n",
    "+ [DBpedia](https://dbpedia.org/) is a crowd-sourced community effort to extract structured content in RDF from the information created in various [Wikimedia](https://www.wikimedia.org/) projects (e.g. [Wikipedia](https://www.wikipedia.org/)). DBpedia is similar in information content to [Wikidata](https://www.wikidata.org/wiki/Wikidata:Main_Page). \n",
    "+ **A word on data quality:** remember that DBpedia is crowd-sourced. This means that volunteers and members of the general public are permitted to add and maintain it's content. As a result, you may encounter inaccuracies / omissions in the content and inconsistencies in how the information is represented. Don't be alarmed by this, it is not critical that the content is accurate for the learning objectives of this lab.\n"
   ]
  },
  {
   "cell_type": "markdown",
   "metadata": {},
   "source": [
    "#### Task information (contd):\n",
    "\n",
    "+ The DBpedia SPARQL endpoint URL is: [https://dbpedia.org/sparql](https://dbpedia.org/sparql)\n",
    "+ DBPedia has it's own SPARQL query interface at [https://dbpedia.org/sparql](https://dbpedia.org/sparql) which is built on OpenLink's [Virtuoso](https://virtuoso.openlinksw.com/) [RDF](https://www.w3.org/TR/rdf11-concepts/) triplestore management system.\n",
    "+ In this lab, we will use an alternative SPARQL query interface to query DBPedia. It is called **[YASGUI](https://yasgui.triply.cc)**. The reason is that YASGUI has additional user-friendly features e.g. management of multiple SPARQL queries in separate tabs. It also allows one to query any publicly available SPARQL endpoint from the same interface."
   ]
  },
  {
   "cell_type": "markdown",
   "metadata": {
    "slideshow": {
     "slide_type": "slide"
    }
   },
   "source": [
    "#### Tips 🔎\n",
    "\n",
    "+ How do I find vocabulary to use in my SPARQL query from DBpedia?\n",
    "\n",
    "> Search on google, e.g., if you want to know the term for \"capital city\" in DBpedia, search for: \"**[dbpedia capital](https://www.google.com/search?&q=dbpedia+capital)**\" In general, \"dbpedia [approximate name of predicate or class you are looking for]\" \n",
    "\n",
    "> Your search query does not have to exactly match the spelling of the DBpedia resource name you are looking for\n",
    "\n",
    "> Alternatively, you can formulate SPARQL queries to list properties and types in DBpedia Do you know what these queries might look like?\n",
    "\n",
    "+ Use [prefix.cc](http://prefix.cc/) to discover the full IRIs for unknown prefixes you may encounter"
   ]
  },
  {
   "cell_type": "markdown",
   "metadata": {},
   "source": [
    "# YASGUI interface \n",
    "\n",
    "<img src=\"yasgui-interface.png\">"
   ]
  },
  {
   "cell_type": "markdown",
   "metadata": {
    "slideshow": {
     "slide_type": "subslide"
    }
   },
   "source": [
    "<!-- # Install the SPARQL kernel\n",
    "\n",
    "This notebook uses the SPARQL Kernel to define and **execute SPARQL queries in the notebook** codeblocks.\n",
    "To **install the SPARQL Kernel** in your JupyterLab installation:\n",
    "\n",
    "```shell\n",
    "pip install sparqlkernel --user\n",
    "jupyter sparqlkernel install --user\n",
    "```\n",
    "\n",
    "To start running SPARQL query in this notebook, we need to define the **SPARQL kernel parameters**:\n",
    "* 🔗 **URL of the SPARQL endpoint to query**\n",
    "* 🌐 Language of preferred labels\n",
    "* 📜 Log level -->"
   ]
  },
  {
   "cell_type": "code",
   "execution_count": 16,
   "metadata": {
    "slideshow": {
     "slide_type": "fragment"
    }
   },
   "outputs": [
    {
     "data": {
      "text/html": [
       "<div class=\"krn-spql\"><div class=\"magic\">Endpoint set to: http://dbpedia.org/sparql</div><div class=\"magic\">Logging set to DEBUG</div></div>"
      ],
      "text/plain": [
       "Endpoint set to: http://dbpedia.org/sparql\n",
       "Logging set to DEBUG\n"
      ]
     },
     "metadata": {},
     "output_type": "display_data"
    }
   ],
   "source": [
    "%endpoint http://dbpedia.org/sparql\n",
    "\n",
    "# This is optional, it would increase the log level\n",
    "%log debug\n",
    "\n",
    "# Uncomment the next line to return label in english and avoid duplicates\n",
    "# %lang en"
   ]
  },
  {
   "cell_type": "markdown",
   "metadata": {
    "slideshow": {
     "slide_type": "slide"
    }
   },
   "source": [
    "# Anatomy of a SPARQL query\n",
    "\n",
    "As we saw in Lecture 6, these are the main components of a SPARQL query:\n",
    "\n",
    "<img src=\"sparql_query_breakdown.png\">"
   ]
  },
  {
   "cell_type": "markdown",
   "metadata": {
    "slideshow": {
     "slide_type": "slide"
    }
   },
   "source": [
    "# Task 1 [15min]: \n",
    "Simpler SPARQL queries."
   ]
  },
  {
   "cell_type": "markdown",
   "metadata": {},
   "source": [
    "a) Let's **[list 10 triples from DBpedia](https://api.triplydb.com/s/4c19DjNva)**:"
   ]
  },
  {
   "cell_type": "code",
   "execution_count": 17,
   "metadata": {
    "slideshow": {
     "slide_type": "fragment"
    }
   },
   "outputs": [
    {
     "data": {
      "text/html": [
       "<div class=\"krn-spql\"><table><tr class=hdr><th>subject</th>\n",
       "<th>predicate</th>\n",
       "<th>object</th></tr><tr class=odd><td class=val><a href=\"http://www.openlinksw.com/virtrdf-data-formats#default-iid\" target=\"_other\">http://www.openlinksw.com/virtrdf-data-formats#default-iid</a></td>\n",
       "<td class=val><a href=\"http://www.w3.org/1999/02/22-rdf-syntax-ns#type\" target=\"_other\">http://www.w3.org/1999/02/22-rdf-syntax-ns#type</a></td>\n",
       "<td class=val><a href=\"http://www.openlinksw.com/schemas/virtrdf#QuadMapFormat\" target=\"_other\">http://www.openlinksw.com/schemas/virtrdf#QuadMapFormat</a></td></tr><tr class=even><td class=val><a href=\"http://www.openlinksw.com/virtrdf-data-formats#default-iid-nullable\" target=\"_other\">http://www.openlinksw.com/virtrdf-data-formats#default-iid-nullable</a></td>\n",
       "<td class=val><a href=\"http://www.w3.org/1999/02/22-rdf-syntax-ns#type\" target=\"_other\">http://www.w3.org/1999/02/22-rdf-syntax-ns#type</a></td>\n",
       "<td class=val><a href=\"http://www.openlinksw.com/schemas/virtrdf#QuadMapFormat\" target=\"_other\">http://www.openlinksw.com/schemas/virtrdf#QuadMapFormat</a></td></tr><tr class=odd><td class=val><a href=\"http://www.openlinksw.com/virtrdf-data-formats#default-iid-blank\" target=\"_other\">http://www.openlinksw.com/virtrdf-data-formats#default-iid-blank</a></td>\n",
       "<td class=val><a href=\"http://www.w3.org/1999/02/22-rdf-syntax-ns#type\" target=\"_other\">http://www.w3.org/1999/02/22-rdf-syntax-ns#type</a></td>\n",
       "<td class=val><a href=\"http://www.openlinksw.com/schemas/virtrdf#QuadMapFormat\" target=\"_other\">http://www.openlinksw.com/schemas/virtrdf#QuadMapFormat</a></td></tr><tr class=even><td class=val><a href=\"http://www.openlinksw.com/virtrdf-data-formats#default-iid-blank-nullable\" target=\"_other\">http://www.openlinksw.com/virtrdf-data-formats#default-iid-blank-nullable</a></td>\n",
       "<td class=val><a href=\"http://www.w3.org/1999/02/22-rdf-syntax-ns#type\" target=\"_other\">http://www.w3.org/1999/02/22-rdf-syntax-ns#type</a></td>\n",
       "<td class=val><a href=\"http://www.openlinksw.com/schemas/virtrdf#QuadMapFormat\" target=\"_other\">http://www.openlinksw.com/schemas/virtrdf#QuadMapFormat</a></td></tr><tr class=odd><td class=val><a href=\"http://www.openlinksw.com/virtrdf-data-formats#default-iid-nonblank\" target=\"_other\">http://www.openlinksw.com/virtrdf-data-formats#default-iid-nonblank</a></td>\n",
       "<td class=val><a href=\"http://www.w3.org/1999/02/22-rdf-syntax-ns#type\" target=\"_other\">http://www.w3.org/1999/02/22-rdf-syntax-ns#type</a></td>\n",
       "<td class=val><a href=\"http://www.openlinksw.com/schemas/virtrdf#QuadMapFormat\" target=\"_other\">http://www.openlinksw.com/schemas/virtrdf#QuadMapFormat</a></td></tr><tr class=even><td class=val><a href=\"http://www.openlinksw.com/virtrdf-data-formats#default-iid-nonblank-nullable\" target=\"_other\">http://www.openlinksw.com/virtrdf-data-formats#default-iid-nonblank-nullable</a></td>\n",
       "<td class=val><a href=\"http://www.w3.org/1999/02/22-rdf-syntax-ns#type\" target=\"_other\">http://www.w3.org/1999/02/22-rdf-syntax-ns#type</a></td>\n",
       "<td class=val><a href=\"http://www.openlinksw.com/schemas/virtrdf#QuadMapFormat\" target=\"_other\">http://www.openlinksw.com/schemas/virtrdf#QuadMapFormat</a></td></tr><tr class=odd><td class=val><a href=\"http://www.openlinksw.com/virtrdf-data-formats#default\" target=\"_other\">http://www.openlinksw.com/virtrdf-data-formats#default</a></td>\n",
       "<td class=val><a href=\"http://www.w3.org/1999/02/22-rdf-syntax-ns#type\" target=\"_other\">http://www.w3.org/1999/02/22-rdf-syntax-ns#type</a></td>\n",
       "<td class=val><a href=\"http://www.openlinksw.com/schemas/virtrdf#QuadMapFormat\" target=\"_other\">http://www.openlinksw.com/schemas/virtrdf#QuadMapFormat</a></td></tr><tr class=even><td class=val><a href=\"http://www.openlinksw.com/virtrdf-data-formats#default-nullable\" target=\"_other\">http://www.openlinksw.com/virtrdf-data-formats#default-nullable</a></td>\n",
       "<td class=val><a href=\"http://www.w3.org/1999/02/22-rdf-syntax-ns#type\" target=\"_other\">http://www.w3.org/1999/02/22-rdf-syntax-ns#type</a></td>\n",
       "<td class=val><a href=\"http://www.openlinksw.com/schemas/virtrdf#QuadMapFormat\" target=\"_other\">http://www.openlinksw.com/schemas/virtrdf#QuadMapFormat</a></td></tr><tr class=odd><td class=val><a href=\"http://www.openlinksw.com/virtrdf-data-formats#sql-varchar\" target=\"_other\">http://www.openlinksw.com/virtrdf-data-formats#sql-varchar</a></td>\n",
       "<td class=val><a href=\"http://www.w3.org/1999/02/22-rdf-syntax-ns#type\" target=\"_other\">http://www.w3.org/1999/02/22-rdf-syntax-ns#type</a></td>\n",
       "<td class=val><a href=\"http://www.openlinksw.com/schemas/virtrdf#QuadMapFormat\" target=\"_other\">http://www.openlinksw.com/schemas/virtrdf#QuadMapFormat</a></td></tr><tr class=even><td class=val><a href=\"http://www.openlinksw.com/virtrdf-data-formats#sql-varchar-nullable\" target=\"_other\">http://www.openlinksw.com/virtrdf-data-formats#sql-varchar-nullable</a></td>\n",
       "<td class=val><a href=\"http://www.w3.org/1999/02/22-rdf-syntax-ns#type\" target=\"_other\">http://www.w3.org/1999/02/22-rdf-syntax-ns#type</a></td>\n",
       "<td class=val><a href=\"http://www.openlinksw.com/schemas/virtrdf#QuadMapFormat\" target=\"_other\">http://www.openlinksw.com/schemas/virtrdf#QuadMapFormat</a></td></tr></table><div class=\"tinfo\">Total: 10, Shown: 10</div></div>"
      ]
     },
     "metadata": {},
     "output_type": "display_data"
    }
   ],
   "source": [
    "SELECT *\n",
    "WHERE {\n",
    "    ?subject ?predicate ?object .\n",
    "}\n",
    "LIMIT 10"
   ]
  },
  {
   "cell_type": "markdown",
   "metadata": {
    "slideshow": {
     "slide_type": "subslide"
    }
   },
   "source": [
    "Observe that **DBpedia limits to 10.000 results by default** (and the SPARQL kernel shows only 20 for readability reasons). **Note:** DBpedia contains much more than 10.000 triples.\n",
    "\n",
    "Do these triples look strange to you? What do they represent? These triples define some vocabulary the endpoint uses to describe its configuration. However, you might not be interested in this, but rather some general knowledge about entities in the real world."
   ]
  },
  {
   "cell_type": "markdown",
   "metadata": {
    "slideshow": {
     "slide_type": "slide"
    }
   },
   "source": [
    "b) Get **[all the books in DBpedia 📚](https://yasgui.triply.cc/#query=PREFIX%20rdf%3A%20%3Chttp%3A%2F%2Fwww.w3.org%2F1999%2F02%2F22-rdf-syntax-ns%23%3E%0APREFIX%20dbo%3A%20%3Chttp%3A%2F%2Fdbpedia.org%2Fontology%2F%3E%0ASELECT%20*%0AWHERE%20%7B%0A%20%20%3Fbook%20rdf%3Atype%20dbo%3ABook%20.%0A%7D%0A&endpoint=https%3A%2F%2Fdbpedia.org%2Fsparql&requestMethod=POST&tabTitle=Query&headers=%7B%7D&contentTypeConstruct=text%2Fturtle%2C*%2F*%3Bq%3D0.9&contentTypeSelect=application%2Fsparql-results%2Bjson%2C*%2F*%3Bq%3D0.9&outputFormat=table)**"
   ]
  },
  {
   "cell_type": "code",
   "execution_count": 18,
   "metadata": {
    "slideshow": {
     "slide_type": "fragment"
    }
   },
   "outputs": [
    {
     "data": {
      "text/html": [
       "<div class=\"krn-spql\"><table><tr class=hdr><th>book</th></tr><tr class=odd><td class=val><a href=\"http://dbpedia.org/resource/1915:_A_Novel_of_Gallipoli\" target=\"_other\">http://dbpedia.org/resource/1915:_A_Novel_of_Gallipoli</a></td></tr><tr class=even><td class=val><a href=\"http://dbpedia.org/resource/1945_(Conroy_novel)\" target=\"_other\">http://dbpedia.org/resource/1945_(Conroy_novel)</a></td></tr><tr class=odd><td class=val><a href=\"http://dbpedia.org/resource/1945_(Gingrich_and_Forstchen_novel)\" target=\"_other\">http://dbpedia.org/resource/1945_(Gingrich_and_Forstchen_novel)</a></td></tr><tr class=even><td class=val><a href=\"http://dbpedia.org/resource/1948:_A_History_of_the_First_Arab–Israeli_War\" target=\"_other\">http://dbpedia.org/resource/1948:_A_History_of_the_First_Arab–Israeli_War</a></td></tr><tr class=odd><td class=val><a href=\"http://dbpedia.org/resource/5_Unearthly_Visions\" target=\"_other\">http://dbpedia.org/resource/5_Unearthly_Visions</a></td></tr><tr class=even><td class=val><a href=\"http://dbpedia.org/resource/61_Hours\" target=\"_other\">http://dbpedia.org/resource/61_Hours</a></td></tr><tr class=odd><td class=val><a href=\"http://dbpedia.org/resource/62:_A_Model_Kit\" target=\"_other\">http://dbpedia.org/resource/62:_A_Model_Kit</a></td></tr><tr class=even><td class=val><a href=\"http://dbpedia.org/resource/69_(novel)\" target=\"_other\">http://dbpedia.org/resource/69_(novel)</a></td></tr><tr class=odd><td class=val><a href=\"http://dbpedia.org/resource/69_Things_to_Do_with_a_Dead_Princess\" target=\"_other\">http://dbpedia.org/resource/69_Things_to_Do_with_a_Dead_Princess</a></td></tr><tr class=even><td class=val><a href=\"http://dbpedia.org/resource/6_Great_Short_Novels_of_Science_Fiction\" target=\"_other\">http://dbpedia.org/resource/6_Great_Short_Novels_of_Science_Fiction</a></td></tr><tr class=odd><td class=val><a href=\"http://dbpedia.org/resource/700_Sundays\" target=\"_other\">http://dbpedia.org/resource/700_Sundays</a></td></tr><tr class=even><td class=val><a href=\"http://dbpedia.org/resource/72_Things_Younger_Than_John_McCain\" target=\"_other\">http://dbpedia.org/resource/72_Things_Younger_Than_John_McCain</a></td></tr><tr class=odd><td class=val><a href=\"http://dbpedia.org/resource/740_Park:_The_Story_of_the_World's_Richest_Apartment_Building\" target=\"_other\">http://dbpedia.org/resource/740_Park:_The_Story_of_the_World's_Richest_Apartment_Building</a></td></tr><tr class=even><td class=val><a href=\"http://dbpedia.org/resource/777_and_Other_Qabalistic_Writings_of_Aleister_Crowley\" target=\"_other\">http://dbpedia.org/resource/777_and_Other_Qabalistic_Writings_of_Aleister_Crowley</a></td></tr><tr class=odd><td class=val><a href=\"http://dbpedia.org/resource/77_Shadow_Street\" target=\"_other\">http://dbpedia.org/resource/77_Shadow_Street</a></td></tr><tr class=even><td class=val><a href=\"http://dbpedia.org/resource/78-87_London_Youth\" target=\"_other\">http://dbpedia.org/resource/78-87_London_Youth</a></td></tr><tr class=odd><td class=val><a href=\"http://dbpedia.org/resource/79_Park_Avenue_(novel)\" target=\"_other\">http://dbpedia.org/resource/79_Park_Avenue_(novel)</a></td></tr><tr class=even><td class=val><a href=\"http://dbpedia.org/resource/7th_Heaven_(novel)\" target=\"_other\">http://dbpedia.org/resource/7th_Heaven_(novel)</a></td></tr><tr class=odd><td class=val><a href=\"http://dbpedia.org/resource/7×7_Tales_of_a_Sevensleeper\" target=\"_other\">http://dbpedia.org/resource/7×7_Tales_of_a_Sevensleeper</a></td></tr><tr class=even><td class=val><a href=\"http://dbpedia.org/resource/84,_Charing_Cross_Road\" target=\"_other\">http://dbpedia.org/resource/84,_Charing_Cross_Road</a></td></tr></table><div class=\"tinfo\">Total: 10000, Shown: 20</div></div>"
      ]
     },
     "metadata": {},
     "output_type": "display_data"
    }
   ],
   "source": [
    "PREFIX dbo: <http://dbpedia.org/ontology/>\n",
    "SELECT *\n",
    "WHERE {\n",
    "    ?book rdf:type dbo:Book .\n",
    "}"
   ]
  },
  {
   "cell_type": "markdown",
   "metadata": {
    "slideshow": {
     "slide_type": "subslide"
    }
   },
   "source": [
    "Here a prefix is defined for the DBpedia vocabulary / ontology:\n",
    "\n",
    "```sparql\n",
    "PREFIX dbo: <http://dbpedia.org/ontology/>\n",
    "```\n",
    "\n",
    "The `rdf:` prefix is defined by default, but `rdf:type` can be shortened to `a`\n",
    "\n",
    "```sparql\n",
    "SELECT * WHERE {\n",
    "  ?book a dbo:Book .\n",
    "}\n",
    "```\n",
    "\n",
    "If we execute this query on the following two triples only, the result would contain just `<http://book1>` (the only valid binding for ```?book ```)\n",
    "\n",
    "```turtle\n",
    "<http://book1> rdf:type <http://dbpedia.org/ontology/Book> .\n",
    "<http://country1> rdf:type <http://dbpedia.org/ontology/Country> .\n",
    "```\n",
    "\n",
    "Experiment with variations of this query. I.e. modify it to return specific variables rather than ``*``. Do you notice a difference?"
   ]
  },
  {
   "cell_type": "markdown",
   "metadata": {
    "slideshow": {
     "slide_type": "slide"
    }
   },
   "source": [
    "c) **[List the authors of all books in DBpedia 🖋️](http://yasgui.triply.cc/#query=PREFIX%20dbo%3A%20%3Chttp%3A%2F%2Fdbpedia.org%2Fontology%2F%3E%0ASELECT%20*%0AWHERE%20%7B%0A%20%20%20%20%3Fbook%20a%20dbo%3ABook%20.%0A%20%20%20%20%3Fbook%20dbo%3Aauthor%20%3Fauthor%20.%0A%7D&endpoint=https%3A%2F%2Fdbpedia.org%2Fsparql&requestMethod=POST&tabTitle=Query&headers=%7B%7D&contentTypeConstruct=text%2Fturtle%2C*%2F*%3Bq%3D0.9&contentTypeSelect=application%2Fsparql-results%2Bjson%2C*%2F*%3Bq%3D0.9&outputFormat=table)** (when an author is defined):"
   ]
  },
  {
   "cell_type": "code",
   "execution_count": 19,
   "metadata": {
    "slideshow": {
     "slide_type": "fragment"
    }
   },
   "outputs": [
    {
     "data": {
      "text/html": [
       "<div class=\"krn-spql\"><table><tr class=hdr><th>book</th>\n",
       "<th>author</th></tr><tr class=odd><td class=val><a href=\"http://dbpedia.org/resource/1915:_A_Novel_of_Gallipoli\" target=\"_other\">http://dbpedia.org/resource/1915:_A_Novel_of_Gallipoli</a></td>\n",
       "<td class=val><a href=\"http://dbpedia.org/resource/Roger_McDonald\" target=\"_other\">http://dbpedia.org/resource/Roger_McDonald</a></td></tr><tr class=even><td class=val><a href=\"http://dbpedia.org/resource/1945_(Conroy_novel)\" target=\"_other\">http://dbpedia.org/resource/1945_(Conroy_novel)</a></td>\n",
       "<td class=val><a href=\"http://dbpedia.org/resource/Robert_Conroy\" target=\"_other\">http://dbpedia.org/resource/Robert_Conroy</a></td></tr><tr class=odd><td class=val><a href=\"http://dbpedia.org/resource/1945_(Gingrich_and_Forstchen_novel)\" target=\"_other\">http://dbpedia.org/resource/1945_(Gingrich_and_Forstchen_novel)</a></td>\n",
       "<td class=val><a href=\"http://dbpedia.org/resource/Newt_Gingrich\" target=\"_other\">http://dbpedia.org/resource/Newt_Gingrich</a></td></tr><tr class=even><td class=val><a href=\"http://dbpedia.org/resource/1945_(Gingrich_and_Forstchen_novel)\" target=\"_other\">http://dbpedia.org/resource/1945_(Gingrich_and_Forstchen_novel)</a></td>\n",
       "<td class=val><a href=\"http://dbpedia.org/resource/William_R._Forstchen\" target=\"_other\">http://dbpedia.org/resource/William_R._Forstchen</a></td></tr><tr class=odd><td class=val><a href=\"http://dbpedia.org/resource/1948:_A_History_of_the_First_Arab–Israeli_War\" target=\"_other\">http://dbpedia.org/resource/1948:_A_History_of_the_First_Arab–Israeli_War</a></td>\n",
       "<td class=val><a href=\"http://dbpedia.org/resource/Benny_Morris\" target=\"_other\">http://dbpedia.org/resource/Benny_Morris</a></td></tr><tr class=even><td class=val><a href=\"http://dbpedia.org/resource/61_Hours\" target=\"_other\">http://dbpedia.org/resource/61_Hours</a></td>\n",
       "<td class=val><a href=\"http://dbpedia.org/resource/Lee_Child\" target=\"_other\">http://dbpedia.org/resource/Lee_Child</a></td></tr><tr class=odd><td class=val><a href=\"http://dbpedia.org/resource/62:_A_Model_Kit\" target=\"_other\">http://dbpedia.org/resource/62:_A_Model_Kit</a></td>\n",
       "<td class=val><a href=\"http://dbpedia.org/resource/Julio_Cortázar\" target=\"_other\">http://dbpedia.org/resource/Julio_Cortázar</a></td></tr><tr class=even><td class=val><a href=\"http://dbpedia.org/resource/69_(novel)\" target=\"_other\">http://dbpedia.org/resource/69_(novel)</a></td>\n",
       "<td class=val><a href=\"http://dbpedia.org/resource/Ryu_Murakami\" target=\"_other\">http://dbpedia.org/resource/Ryu_Murakami</a></td></tr><tr class=odd><td class=val><a href=\"http://dbpedia.org/resource/69_Things_to_Do_with_a_Dead_Princess\" target=\"_other\">http://dbpedia.org/resource/69_Things_to_Do_with_a_Dead_Princess</a></td>\n",
       "<td class=val><a href=\"http://dbpedia.org/resource/Stewart_Home\" target=\"_other\">http://dbpedia.org/resource/Stewart_Home</a></td></tr><tr class=even><td class=val><a href=\"http://dbpedia.org/resource/700_Sundays\" target=\"_other\">http://dbpedia.org/resource/700_Sundays</a></td>\n",
       "<td class=val><a href=\"http://dbpedia.org/resource/Billy_Crystal\" target=\"_other\">http://dbpedia.org/resource/Billy_Crystal</a></td></tr><tr class=odd><td class=val><a href=\"http://dbpedia.org/resource/740_Park:_The_Story_of_the_World's_Richest_Apartment_Building\" target=\"_other\">http://dbpedia.org/resource/740_Park:_The_Story_of_the_World's_Richest_Apartment_Building</a></td>\n",
       "<td class=val><a href=\"http://dbpedia.org/resource/Michael_Gross_(writer)\" target=\"_other\">http://dbpedia.org/resource/Michael_Gross_(writer)</a></td></tr><tr class=even><td class=val><a href=\"http://dbpedia.org/resource/777_and_Other_Qabalistic_Writings_of_Aleister_Crowley\" target=\"_other\">http://dbpedia.org/resource/777_and_Other_Qabalistic_Writings_of_Aleister_Crowley</a></td>\n",
       "<td class=val><a href=\"http://dbpedia.org/resource/Aleister_Crowley\" target=\"_other\">http://dbpedia.org/resource/Aleister_Crowley</a></td></tr><tr class=odd><td class=val><a href=\"http://dbpedia.org/resource/77_Shadow_Street\" target=\"_other\">http://dbpedia.org/resource/77_Shadow_Street</a></td>\n",
       "<td class=val><a href=\"http://dbpedia.org/resource/Dean_Koontz\" target=\"_other\">http://dbpedia.org/resource/Dean_Koontz</a></td></tr><tr class=even><td class=val><a href=\"http://dbpedia.org/resource/78-87_London_Youth\" target=\"_other\">http://dbpedia.org/resource/78-87_London_Youth</a></td>\n",
       "<td class=val><a href=\"http://dbpedia.org/resource/Derek_Ridgers\" target=\"_other\">http://dbpedia.org/resource/Derek_Ridgers</a></td></tr><tr class=odd><td class=val><a href=\"http://dbpedia.org/resource/79_Park_Avenue_(novel)\" target=\"_other\">http://dbpedia.org/resource/79_Park_Avenue_(novel)</a></td>\n",
       "<td class=val><a href=\"http://dbpedia.org/resource/Harold_Robbins\" target=\"_other\">http://dbpedia.org/resource/Harold_Robbins</a></td></tr><tr class=even><td class=val><a href=\"http://dbpedia.org/resource/7th_Heaven_(novel)\" target=\"_other\">http://dbpedia.org/resource/7th_Heaven_(novel)</a></td>\n",
       "<td class=val><a href=\"http://dbpedia.org/resource/Maxine_Paetro\" target=\"_other\">http://dbpedia.org/resource/Maxine_Paetro</a></td></tr><tr class=odd><td class=val><a href=\"http://dbpedia.org/resource/7th_Heaven_(novel)\" target=\"_other\">http://dbpedia.org/resource/7th_Heaven_(novel)</a></td>\n",
       "<td class=val><a href=\"http://dbpedia.org/resource/James_Patterson\" target=\"_other\">http://dbpedia.org/resource/James_Patterson</a></td></tr><tr class=even><td class=val><a href=\"http://dbpedia.org/resource/7×7_Tales_of_a_Sevensleeper\" target=\"_other\">http://dbpedia.org/resource/7×7_Tales_of_a_Sevensleeper</a></td>\n",
       "<td class=val><a href=\"http://dbpedia.org/resource/Hanna_Johansen\" target=\"_other\">http://dbpedia.org/resource/Hanna_Johansen</a></td></tr><tr class=odd><td class=val><a href=\"http://dbpedia.org/resource/90_Minutes_in_Heaven\" target=\"_other\">http://dbpedia.org/resource/90_Minutes_in_Heaven</a></td>\n",
       "<td class=val><a href=\"http://dbpedia.org/resource/Don_Piper\" target=\"_other\">http://dbpedia.org/resource/Don_Piper</a></td></tr><tr class=even><td class=val><a href=\"http://dbpedia.org/resource/90_Minutes_in_Heaven\" target=\"_other\">http://dbpedia.org/resource/90_Minutes_in_Heaven</a></td>\n",
       "<td class=val><a href=\"http://dbpedia.org/resource/Cecil_Murphey\" target=\"_other\">http://dbpedia.org/resource/Cecil_Murphey</a></td></tr></table><div class=\"tinfo\">Total: 10000, Shown: 20</div></div>"
      ]
     },
     "metadata": {},
     "output_type": "display_data"
    }
   ],
   "source": [
    "PREFIX dbo: <http://dbpedia.org/ontology/>\n",
    "SELECT *\n",
    "WHERE {\n",
    "    ?book a dbo:Book .\n",
    "    ?book dbo:author ?author .\n",
    "}"
   ]
  },
  {
   "cell_type": "markdown",
   "metadata": {
    "slideshow": {
     "slide_type": "subslide"
    }
   },
   "source": [
    "How would you modify the query above to return the number of authors for the book that has the **English** title: \"1066 and All That\"?\n",
    "\n",
    "A Turtle-like syntax can also be used in SPARQL to make the query more readable:\n",
    "\n",
    "```sparql\n",
    "PREFIX dbo: <http://dbpedia.org/ontology/>\n",
    "SELECT *\n",
    "WHERE {\n",
    "    ?book a dbo:Book ; \n",
    "        dbo:author ?author .\n",
    "}\n",
    "```"
   ]
  },
  {
   "cell_type": "markdown",
   "metadata": {
    "slideshow": {
     "slide_type": "subslide"
    }
   },
   "source": [
    "Consider a graph with the following 4 statements:\n",
    "\n",
    "```turtle\n",
    "<http://book1> rdf:type <http://dbpedia.org/ontology/Book> .\n",
    "<http://book1> dbo:author <http://author1> .\n",
    "<http://book2> rdf:type <http://dbpedia.org/ontology/Book> .\n",
    "<http://book2> dbo:contributor <http://author2> .\n",
    "```\n",
    "\n",
    "The previous query will return only **one row of results with `<http://book1>` and `<http://author1>`**"
   ]
  },
  {
   "cell_type": "markdown",
   "metadata": {
    "slideshow": {
     "slide_type": "slide"
    }
   },
   "source": [
    "d) **[Truncate the results of Task 1c) to only 10 results](https://api.triplydb.com/s/sc_5bOadM)** "
   ]
  },
  {
   "cell_type": "code",
   "execution_count": 20,
   "metadata": {
    "slideshow": {
     "slide_type": "fragment"
    }
   },
   "outputs": [
    {
     "data": {
      "text/html": [
       "<div class=\"krn-spql\"><table><tr class=hdr><th>author</th></tr><tr class=odd><td class=val><a href=\"http://dbpedia.org/resource/Roger_McDonald\" target=\"_other\">http://dbpedia.org/resource/Roger_McDonald</a></td></tr><tr class=even><td class=val><a href=\"http://dbpedia.org/resource/Robert_Conroy\" target=\"_other\">http://dbpedia.org/resource/Robert_Conroy</a></td></tr><tr class=odd><td class=val><a href=\"http://dbpedia.org/resource/Newt_Gingrich\" target=\"_other\">http://dbpedia.org/resource/Newt_Gingrich</a></td></tr><tr class=even><td class=val><a href=\"http://dbpedia.org/resource/William_R._Forstchen\" target=\"_other\">http://dbpedia.org/resource/William_R._Forstchen</a></td></tr><tr class=odd><td class=val><a href=\"http://dbpedia.org/resource/Benny_Morris\" target=\"_other\">http://dbpedia.org/resource/Benny_Morris</a></td></tr><tr class=even><td class=val><a href=\"http://dbpedia.org/resource/Lee_Child\" target=\"_other\">http://dbpedia.org/resource/Lee_Child</a></td></tr><tr class=odd><td class=val><a href=\"http://dbpedia.org/resource/Julio_Cortázar\" target=\"_other\">http://dbpedia.org/resource/Julio_Cortázar</a></td></tr><tr class=even><td class=val><a href=\"http://dbpedia.org/resource/Ryu_Murakami\" target=\"_other\">http://dbpedia.org/resource/Ryu_Murakami</a></td></tr><tr class=odd><td class=val><a href=\"http://dbpedia.org/resource/Stewart_Home\" target=\"_other\">http://dbpedia.org/resource/Stewart_Home</a></td></tr><tr class=even><td class=val><a href=\"http://dbpedia.org/resource/Billy_Crystal\" target=\"_other\">http://dbpedia.org/resource/Billy_Crystal</a></td></tr></table><div class=\"tinfo\">Total: 10, Shown: 10</div></div>"
      ]
     },
     "metadata": {},
     "output_type": "display_data"
    }
   ],
   "source": [
    "PREFIX dbo: <http://dbpedia.org/ontology/>\n",
    "SELECT ?author\n",
    "WHERE {\n",
    "    ?book a dbo:Book ;\n",
    "        dbo:author ?author .\n",
    "} \n",
    "LIMIT 10"
   ]
  },
  {
   "cell_type": "markdown",
   "metadata": {
    "slideshow": {
     "slide_type": "slide"
    }
   },
   "source": [
    "e) **[Display the number of authors for books in DBpedia](https://api.triplydb.com/s/alXTOBBJK)** 👥"
   ]
  },
  {
   "cell_type": "code",
   "execution_count": 21,
   "metadata": {
    "slideshow": {
     "slide_type": "fragment"
    }
   },
   "outputs": [
    {
     "data": {
      "text/html": [
       "<div class=\"krn-spql\"><table><tr class=hdr><th>callret-0</th></tr><tr class=odd><td class=val>41791</td></tr></table><div class=\"tinfo\">Total: 1, Shown: 1</div></div>"
      ]
     },
     "metadata": {},
     "output_type": "display_data"
    }
   ],
   "source": [
    "PREFIX dbo: <http://dbpedia.org/ontology/> \n",
    "\n",
    "SELECT COUNT(?author)\n",
    "WHERE {\n",
    "    ?book a dbo:Book;\n",
    "        dbo:author ?author .\n",
    "} "
   ]
  },
  {
   "cell_type": "markdown",
   "metadata": {},
   "source": [
    "f) **[Display the number of UNIQUE authors for books in DBpedia](https://api.triplydb.com/s/O9DeKnsXH)** 👤"
   ]
  },
  {
   "cell_type": "markdown",
   "metadata": {
    "slideshow": {
     "slide_type": "slide"
    }
   },
   "source": [
    "# Task 2 [15-20min]: \n",
    "Moderately challenging SPARQL queries."
   ]
  },
  {
   "cell_type": "markdown",
   "metadata": {
    "slideshow": {
     "slide_type": "slide"
    }
   },
   "source": [
    "a) **[List 10 authors who wrote a book with more than 500 pages](https://api.triplydb.com/s/UbGw805Vr)** 📖"
   ]
  },
  {
   "cell_type": "code",
   "execution_count": 22,
   "metadata": {
    "slideshow": {
     "slide_type": "fragment"
    }
   },
   "outputs": [
    {
     "data": {
      "text/html": [
       "<div class=\"krn-spql\"><table><tr class=hdr><th>author</th></tr><tr class=odd><td class=val><a href=\"http://dbpedia.org/resource/Michael_Gross_(writer)\" target=\"_other\">http://dbpedia.org/resource/Michael_Gross_(writer)</a></td></tr><tr class=even><td class=val><a href=\"http://dbpedia.org/resource/Al_Sarrantonio\" target=\"_other\">http://dbpedia.org/resource/Al_Sarrantonio</a></td></tr><tr class=odd><td class=val><a href=\"http://dbpedia.org/resource/John_DeFrancis\" target=\"_other\">http://dbpedia.org/resource/John_DeFrancis</a></td></tr><tr class=even><td class=val><a href=\"http://dbpedia.org/resource/Elliot_Willensky_(architectural_historian)\" target=\"_other\">http://dbpedia.org/resource/Elliot_Willensky_(architectural_historian)</a></td></tr><tr class=odd><td class=val><a href=\"http://dbpedia.org/resource/Norval_White\" target=\"_other\">http://dbpedia.org/resource/Norval_White</a></td></tr><tr class=even><td class=val><a href=\"http://dbpedia.org/resource/Martin_Boyd\" target=\"_other\">http://dbpedia.org/resource/Martin_Boyd</a></td></tr><tr class=odd><td class=val><a href=\"http://dbpedia.org/resource/Tan_Malaka\" target=\"_other\">http://dbpedia.org/resource/Tan_Malaka</a></td></tr><tr class=even><td class=val><a href=\"http://dbpedia.org/resource/Raymond_E._Feist\" target=\"_other\">http://dbpedia.org/resource/Raymond_E._Feist</a></td></tr><tr class=odd><td class=val><a href=\"http://dbpedia.org/resource/Manning_Marable\" target=\"_other\">http://dbpedia.org/resource/Manning_Marable</a></td></tr><tr class=even><td class=val><a href=\"http://dbpedia.org/resource/Alexis_Wright\" target=\"_other\">http://dbpedia.org/resource/Alexis_Wright</a></td></tr></table><div class=\"tinfo\">Total: 10, Shown: 10</div></div>"
      ]
     },
     "metadata": {},
     "output_type": "display_data"
    }
   ],
   "source": [
    "PREFIX dbo: <http://dbpedia.org/ontology/>\n",
    "SELECT DISTINCT ?author\n",
    "WHERE {\n",
    "    ?book a dbo:Book ;\n",
    "        dbo:author ?author ;\n",
    "        dbo:numberOfPages ?pages .\n",
    "    FILTER (?pages > 500)\n",
    "} LIMIT 10"
   ]
  },
  {
   "cell_type": "markdown",
   "metadata": {},
   "source": [
    "b) **[List 20 books in DBpedia that have the term grand in their name](https://api.triplydb.com/s/TGrgpbPsI)**\n",
    "\n",
    "* **Hint:** use the [contains(string_to_look_in,string_to_look_for)](https://www.w3.org/TR/sparql11-query/#func-contains) function"
   ]
  },
  {
   "cell_type": "code",
   "execution_count": 23,
   "metadata": {
    "slideshow": {
     "slide_type": "slide"
    }
   },
   "outputs": [
    {
     "data": {
      "text/html": [
       "<div class=\"krn-spql\"><table><tr class=hdr><th>name</th>\n",
       "<th>author</th></tr><tr class=odd><td class=val>Storia della grandezza e della decadenza di Cesare Birotteau</td>\n",
       "<td class=val><a href=\"http://dbpedia.org/resource/Honoré_de_Balzac\" target=\"_other\">http://dbpedia.org/resource/Honoré_de_Balzac</a></td></tr><tr class=even><td class=val>Il grande tempo</td>\n",
       "<td class=val><a href=\"http://dbpedia.org/resource/Fritz_Leiber\" target=\"_other\">http://dbpedia.org/resource/Fritz_Leiber</a></td></tr><tr class=odd><td class=val>Souvenirs d'un pas grand-chose</td>\n",
       "<td class=val><a href=\"http://dbpedia.org/resource/Charles_Bukowski\" target=\"_other\">http://dbpedia.org/resource/Charles_Bukowski</a></td></tr><tr class=even><td class=val>Il grande dio Pan</td>\n",
       "<td class=val><a href=\"http://dbpedia.org/resource/Arthur_Machen\" target=\"_other\">http://dbpedia.org/resource/Arthur_Machen</a></td></tr><tr class=odd><td class=val>La grande storia del tempo</td>\n",
       "<td class=val><a href=\"http://dbpedia.org/resource/Stephen_Hawking\" target=\"_other\">http://dbpedia.org/resource/Stephen_Hawking</a></td></tr><tr class=even><td class=val>La grande storia del tempo</td>\n",
       "<td class=val><a href=\"http://dbpedia.org/resource/Leonard_Mlodinow\" target=\"_other\">http://dbpedia.org/resource/Leonard_Mlodinow</a></td></tr><tr class=odd><td class=val>Guerra al grande nulla</td>\n",
       "<td class=val><a href=\"http://dbpedia.org/resource/James_Blish\" target=\"_other\">http://dbpedia.org/resource/James_Blish</a></td></tr><tr class=even><td class=val>Una grande e terribile bellezza</td>\n",
       "<td class=val><a href=\"http://dbpedia.org/resource/Libba_Bray\" target=\"_other\">http://dbpedia.org/resource/Libba_Bray</a></td></tr><tr class=odd><td class=val>Los cuatro grandes</td>\n",
       "<td class=val><a href=\"http://dbpedia.org/resource/Agatha_Christie\" target=\"_other\">http://dbpedia.org/resource/Agatha_Christie</a></td></tr><tr class=even><td class=val>Darwin et les grandes énigmes de la vie</td>\n",
       "<td class=val><a href=\"http://dbpedia.org/resource/Stephen_Jay_Gould\" target=\"_other\">http://dbpedia.org/resource/Stephen_Jay_Gould</a></td></tr><tr class=odd><td class=val>Alice chez le grand couturier</td>\n",
       "<td class=val><a href=\"http://dbpedia.org/resource/Carolyn_Keene\" target=\"_other\">http://dbpedia.org/resource/Carolyn_Keene</a></td></tr><tr class=even><td class=val>Il grande ascensore di cristallo</td>\n",
       "<td class=val><a href=\"http://dbpedia.org/resource/Roald_Dahl\" target=\"_other\">http://dbpedia.org/resource/Roald_Dahl</a></td></tr><tr class=odd><td class=val>Diario di una schiappa - La legge dei più grandi</td>\n",
       "<td class=val><a href=\"http://dbpedia.org/resource/Jeff_Kinney_(author)\" target=\"_other\">http://dbpedia.org/resource/Jeff_Kinney_(author)</a></td></tr><tr class=even><td class=val>Dieto por Malgranda Planedo</td>\n",
       "<td class=val><a href=\"http://dbpedia.org/resource/Frances_Moore_Lappé\" target=\"_other\">http://dbpedia.org/resource/Frances_Moore_Lappé</a></td></tr><tr class=odd><td class=val>L'ora dei grandi vermi</td>\n",
       "<td class=val><a href=\"http://dbpedia.org/resource/Philip_K._Dick\" target=\"_other\">http://dbpedia.org/resource/Philip_K._Dick</a></td></tr><tr class=even><td class=val>L'ora dei grandi vermi</td>\n",
       "<td class=val><a href=\"http://dbpedia.org/resource/Ray_Nelson\" target=\"_other\">http://dbpedia.org/resource/Ray_Nelson</a></td></tr><tr class=odd><td class=val>La Terra è abbastanza grande</td>\n",
       "<td class=val><a href=\"http://dbpedia.org/resource/Isaac_Asimov\" target=\"_other\">http://dbpedia.org/resource/Isaac_Asimov</a></td></tr><tr class=even><td class=val>Rien de plus grand</td>\n",
       "<td class=val><a href=\"http://dbpedia.org/resource/Malin_Persson_Giolito\" target=\"_other\">http://dbpedia.org/resource/Malin_Persson_Giolito</a></td></tr><tr class=odd><td class=val>La grande prova (romanzo)</td>\n",
       "<td class=val><a href=\"http://dbpedia.org/resource/James_Vance_Marshall\" target=\"_other\">http://dbpedia.org/resource/James_Vance_Marshall</a></td></tr><tr class=even><td class=val>Il grande mare dei Sargassi</td>\n",
       "<td class=val><a href=\"http://dbpedia.org/resource/Jean_Rhys\" target=\"_other\">http://dbpedia.org/resource/Jean_Rhys</a></td></tr></table><div class=\"tinfo\">Total: 20, Shown: 20</div></div>"
      ]
     },
     "metadata": {},
     "output_type": "display_data"
    }
   ],
   "source": [
    "PREFIX dbo:<http://dbpedia.org/ontology/>\n",
    "PREFIX rdfs: <http://www.w3.org/2000/01/rdf-schema#>\n",
    "SELECT ?name ?author \n",
    "WHERE {\n",
    "    ?book a dbo:Book ;\n",
    "        dbo:author ?author ;\n",
    "        rdfs:label ?name . \n",
    "    FILTER (contains(?name,\"grand\"))\n",
    "} LIMIT 20"
   ]
  },
  {
   "cell_type": "markdown",
   "metadata": {},
   "source": [
    "c) **[List 20 book names from DBpedia together with the language of their names](https://api.triplydb.com/s/voF_vhc41)**\n",
    "\n",
    "* **Hint:** use the [lang](https://www.w3.org/TR/sparql11-query/#func-lang) function."
   ]
  },
  {
   "cell_type": "code",
   "execution_count": 24,
   "metadata": {},
   "outputs": [
    {
     "data": {
      "text/html": [
       "<div class=\"krn-spql\"><table><tr class=hdr><th>name</th>\n",
       "<th>author</th>\n",
       "<th>lang</th></tr><tr class=odd><td class=val>1915: A Novel of Gallipoli</td>\n",
       "<td class=val><a href=\"http://dbpedia.org/resource/Roger_McDonald\" target=\"_other\">http://dbpedia.org/resource/Roger_McDonald</a></td>\n",
       "<td class=val>en</td></tr><tr class=even><td class=val>1945 (Conroy novel)</td>\n",
       "<td class=val><a href=\"http://dbpedia.org/resource/Robert_Conroy\" target=\"_other\">http://dbpedia.org/resource/Robert_Conroy</a></td>\n",
       "<td class=val>en</td></tr><tr class=odd><td class=val>1945 (Gingrich and Forstchen novel)</td>\n",
       "<td class=val><a href=\"http://dbpedia.org/resource/Newt_Gingrich\" target=\"_other\">http://dbpedia.org/resource/Newt_Gingrich</a></td>\n",
       "<td class=val>en</td></tr><tr class=even><td class=val>1945 (Gingrich and Forstchen novel)</td>\n",
       "<td class=val><a href=\"http://dbpedia.org/resource/William_R._Forstchen\" target=\"_other\">http://dbpedia.org/resource/William_R._Forstchen</a></td>\n",
       "<td class=val>en</td></tr><tr class=odd><td class=val>1948: A History of the First Arab–Israeli War</td>\n",
       "<td class=val><a href=\"http://dbpedia.org/resource/Benny_Morris\" target=\"_other\">http://dbpedia.org/resource/Benny_Morris</a></td>\n",
       "<td class=val>en</td></tr><tr class=even><td class=val>61 Hours</td>\n",
       "<td class=val><a href=\"http://dbpedia.org/resource/Lee_Child\" target=\"_other\">http://dbpedia.org/resource/Lee_Child</a></td>\n",
       "<td class=val>en</td></tr><tr class=odd><td class=val>62/Modellbaukasten</td>\n",
       "<td class=val><a href=\"http://dbpedia.org/resource/Julio_Cortázar\" target=\"_other\">http://dbpedia.org/resource/Julio_Cortázar</a></td>\n",
       "<td class=val>de</td></tr><tr class=even><td class=val>62: A Model Kit</td>\n",
       "<td class=val><a href=\"http://dbpedia.org/resource/Julio_Cortázar\" target=\"_other\">http://dbpedia.org/resource/Julio_Cortázar</a></td>\n",
       "<td class=val>en</td></tr><tr class=odd><td class=val>62 Modelo para armar</td>\n",
       "<td class=val><a href=\"http://dbpedia.org/resource/Julio_Cortázar\" target=\"_other\">http://dbpedia.org/resource/Julio_Cortázar</a></td>\n",
       "<td class=val>es</td></tr><tr class=even><td class=val>62. Модель для сборки</td>\n",
       "<td class=val><a href=\"http://dbpedia.org/resource/Julio_Cortázar\" target=\"_other\">http://dbpedia.org/resource/Julio_Cortázar</a></td>\n",
       "<td class=val>ru</td></tr><tr class=odd><td class=val>69 (Roman)</td>\n",
       "<td class=val><a href=\"http://dbpedia.org/resource/Ryu_Murakami\" target=\"_other\">http://dbpedia.org/resource/Ryu_Murakami</a></td>\n",
       "<td class=val>de</td></tr><tr class=even><td class=val>69 (novel)</td>\n",
       "<td class=val><a href=\"http://dbpedia.org/resource/Ryu_Murakami\" target=\"_other\">http://dbpedia.org/resource/Ryu_Murakami</a></td>\n",
       "<td class=val>en</td></tr><tr class=odd><td class=val>69 sixty nine</td>\n",
       "<td class=val><a href=\"http://dbpedia.org/resource/Ryu_Murakami\" target=\"_other\">http://dbpedia.org/resource/Ryu_Murakami</a></td>\n",
       "<td class=val>ja</td></tr><tr class=even><td class=val>69 (роман)</td>\n",
       "<td class=val><a href=\"http://dbpedia.org/resource/Ryu_Murakami\" target=\"_other\">http://dbpedia.org/resource/Ryu_Murakami</a></td>\n",
       "<td class=val>ru</td></tr><tr class=odd><td class=val>69 (роман)</td>\n",
       "<td class=val><a href=\"http://dbpedia.org/resource/Ryu_Murakami\" target=\"_other\">http://dbpedia.org/resource/Ryu_Murakami</a></td>\n",
       "<td class=val>uk</td></tr><tr class=even><td class=val>69 sixty nine</td>\n",
       "<td class=val><a href=\"http://dbpedia.org/resource/Ryu_Murakami\" target=\"_other\">http://dbpedia.org/resource/Ryu_Murakami</a></td>\n",
       "<td class=val>zh</td></tr><tr class=odd><td class=val>69 Things to Do with a Dead Princess</td>\n",
       "<td class=val><a href=\"http://dbpedia.org/resource/Stewart_Home\" target=\"_other\">http://dbpedia.org/resource/Stewart_Home</a></td>\n",
       "<td class=val>en</td></tr><tr class=even><td class=val>700 Sundays</td>\n",
       "<td class=val><a href=\"http://dbpedia.org/resource/Billy_Crystal\" target=\"_other\">http://dbpedia.org/resource/Billy_Crystal</a></td>\n",
       "<td class=val>en</td></tr><tr class=odd><td class=val>740 Park: The Story of the World's Richest Apartment Building</td>\n",
       "<td class=val><a href=\"http://dbpedia.org/resource/Michael_Gross_(writer)\" target=\"_other\">http://dbpedia.org/resource/Michael_Gross_(writer)</a></td>\n",
       "<td class=val>en</td></tr><tr class=even><td class=val>777 and Other Qabalistic Writings of Aleister Crowley</td>\n",
       "<td class=val><a href=\"http://dbpedia.org/resource/Aleister_Crowley\" target=\"_other\">http://dbpedia.org/resource/Aleister_Crowley</a></td>\n",
       "<td class=val>en</td></tr></table><div class=\"tinfo\">Total: 20, Shown: 20</div></div>"
      ]
     },
     "metadata": {},
     "output_type": "display_data"
    }
   ],
   "source": [
    "PREFIX rdfs: <http://www.w3.org/2000/01/rdf-schema#>\n",
    "PREFIX dbo: <http://dbpedia.org/ontology/>\n",
    "SELECT ?name ?author lang(?name) as ?lang\n",
    "WHERE {\n",
    "    ?book a dbo:Book ;\n",
    "        dbo:author ?author ;\n",
    "        rdfs:label ?name . \n",
    "} LIMIT 20"
   ]
  },
  {
   "cell_type": "markdown",
   "metadata": {},
   "source": [
    "d) **[List the top 5 longest books in DBpedia (with the most pages) in descending order](https://api.triplydb.com/s/ao8dNwQx9)**"
   ]
  },
  {
   "cell_type": "code",
   "execution_count": 25,
   "metadata": {},
   "outputs": [
    {
     "data": {
      "text/html": [
       "<div class=\"krn-spql\"><table><tr class=hdr><th>name</th>\n",
       "<th>author</th>\n",
       "<th>pages</th></tr><tr class=odd><td class=val>A History of the Theories of Aether and Electricity</td>\n",
       "<td class=val><a href=\"http://dbpedia.org/resource/E._T._Whittaker\" target=\"_other\">http://dbpedia.org/resource/E._T._Whittaker</a></td>\n",
       "<td class=val>475434319</td></tr><tr class=even><td class=val>The Tolkien Reader</td>\n",
       "<td class=val><a href=\"http://dbpedia.org/resource/J._R._R._Tolkien\" target=\"_other\">http://dbpedia.org/resource/J._R._R._Tolkien</a></td>\n",
       "<td class=val>241127964</td></tr><tr class=odd><td class=val>The Tolkien Reader</td>\n",
       "<td class=val><a href=\"http://dbpedia.org/resource/J._R._R._Tolkien\" target=\"_other\">http://dbpedia.org/resource/J._R._R._Tolkien</a></td>\n",
       "<td class=val>241127964</td></tr><tr class=even><td class=val>The Tolkien Reader</td>\n",
       "<td class=val><a href=\"http://dbpedia.org/resource/J._R._R._Tolkien\" target=\"_other\">http://dbpedia.org/resource/J._R._R._Tolkien</a></td>\n",
       "<td class=val>241127964</td></tr><tr class=odd><td class=val>The Tolkien Reader</td>\n",
       "<td class=val><a href=\"http://dbpedia.org/resource/J._R._R._Tolkien\" target=\"_other\">http://dbpedia.org/resource/J._R._R._Tolkien</a></td>\n",
       "<td class=val>241127964</td></tr></table><div class=\"tinfo\">Total: 5, Shown: 5</div></div>"
      ]
     },
     "metadata": {},
     "output_type": "display_data"
    }
   ],
   "source": [
    "PREFIX dbo:<http://dbpedia.org/ontology/>\n",
    "PREFIX rdfs: <http://www.w3.org/2000/01/rdf-schema#>\n",
    "SELECT ?name ?author ?pages\n",
    "WHERE {\n",
    "    ?book a dbo:Book ;\n",
    "        dbo:author ?author ;\n",
    "        rdfs:label ?name ;\n",
    "        dbo:numberOfPages ?pages .\n",
    "} \n",
    "ORDER BY DESC(?pages)\n",
    "LIMIT 5"
   ]
  },
  {
   "cell_type": "markdown",
   "metadata": {},
   "source": [
    "# Task 3 [20min]: \n",
    "Challenging SPARQL queries."
   ]
  },
  {
   "cell_type": "markdown",
   "metadata": {},
   "source": [
    "a) **[List 10 book authors from DBpedia and the capital cities of the countries in which they were born](https://api.triplydb.com/s/1EnFo0hbi)**"
   ]
  },
  {
   "cell_type": "code",
   "execution_count": 26,
   "metadata": {},
   "outputs": [
    {
     "data": {
      "text/html": [
       "<div class=\"krn-spql\"><table><tr class=hdr><th>author</th>\n",
       "<th>capital</th></tr><tr class=odd><td class=val><a href=\"http://dbpedia.org/resource/Joseph_Conrad\" target=\"_other\">http://dbpedia.org/resource/Joseph_Conrad</a></td>\n",
       "<td class=val><a href=\"http://dbpedia.org/resource/Kyiv\" target=\"_other\">http://dbpedia.org/resource/Kyiv</a></td></tr><tr class=even><td class=val><a href=\"http://dbpedia.org/resource/Joseph_Roth\" target=\"_other\">http://dbpedia.org/resource/Joseph_Roth</a></td>\n",
       "<td class=val><a href=\"http://dbpedia.org/resource/Kyiv\" target=\"_other\">http://dbpedia.org/resource/Kyiv</a></td></tr><tr class=odd><td class=val><a href=\"http://dbpedia.org/resource/Mikhail_Bulgakov\" target=\"_other\">http://dbpedia.org/resource/Mikhail_Bulgakov</a></td>\n",
       "<td class=val><a href=\"http://dbpedia.org/resource/Kyiv\" target=\"_other\">http://dbpedia.org/resource/Kyiv</a></td></tr><tr class=even><td class=val><a href=\"http://dbpedia.org/resource/Louis_Begley\" target=\"_other\">http://dbpedia.org/resource/Louis_Begley</a></td>\n",
       "<td class=val><a href=\"http://dbpedia.org/resource/Kyiv\" target=\"_other\">http://dbpedia.org/resource/Kyiv</a></td></tr><tr class=odd><td class=val><a href=\"http://dbpedia.org/resource/Peter_Kennard\" target=\"_other\">http://dbpedia.org/resource/Peter_Kennard</a></td>\n",
       "<td class=val><a href=\"http://dbpedia.org/resource/London\" target=\"_other\">http://dbpedia.org/resource/London</a></td></tr><tr class=even><td class=val><a href=\"http://dbpedia.org/resource/William_Hazlitt\" target=\"_other\">http://dbpedia.org/resource/William_Hazlitt</a></td>\n",
       "<td class=val><a href=\"http://dbpedia.org/resource/London\" target=\"_other\">http://dbpedia.org/resource/London</a></td></tr><tr class=odd><td class=val><a href=\"http://dbpedia.org/resource/Fred_Hoyle\" target=\"_other\">http://dbpedia.org/resource/Fred_Hoyle</a></td>\n",
       "<td class=val><a href=\"http://dbpedia.org/resource/London\" target=\"_other\">http://dbpedia.org/resource/London</a></td></tr><tr class=even><td class=val><a href=\"http://dbpedia.org/resource/Lindsey_Davis\" target=\"_other\">http://dbpedia.org/resource/Lindsey_Davis</a></td>\n",
       "<td class=val><a href=\"http://dbpedia.org/resource/London\" target=\"_other\">http://dbpedia.org/resource/London</a></td></tr><tr class=odd><td class=val><a href=\"http://dbpedia.org/resource/Maria_Edgeworth\" target=\"_other\">http://dbpedia.org/resource/Maria_Edgeworth</a></td>\n",
       "<td class=val><a href=\"http://dbpedia.org/resource/London\" target=\"_other\">http://dbpedia.org/resource/London</a></td></tr><tr class=even><td class=val><a href=\"http://dbpedia.org/resource/Benjamin_Disraeli\" target=\"_other\">http://dbpedia.org/resource/Benjamin_Disraeli</a></td>\n",
       "<td class=val><a href=\"http://dbpedia.org/resource/London\" target=\"_other\">http://dbpedia.org/resource/London</a></td></tr></table><div class=\"tinfo\">Total: 10, Shown: 10</div></div>"
      ]
     },
     "metadata": {},
     "output_type": "display_data"
    }
   ],
   "source": [
    "PREFIX rdfs: <http://www.w3.org/2000/01/rdf-schema#>\n",
    "PREFIX dbo:<http://dbpedia.org/ontology/>\n",
    "SELECT DISTINCT ?author ?capital\n",
    "WHERE {\n",
    "\t?book a dbo:Book ;\n",
    "        \tdbo:author ?author .\n",
    "  \t?author dbo:birthPlace ?birthPlace .\n",
    "  \t?birthPlace dbo:country ?country .\n",
    "  \t?country dbo:capital ?capital .\n",
    "}\n",
    "LIMIT 10"
   ]
  },
  {
   "cell_type": "markdown",
   "metadata": {
    "slideshow": {
     "slide_type": "slide"
    }
   },
   "source": [
    "b) **[Display the number of authors for the book that has the English title \"1066 and All That\"](https://api.triplydb.com/s/3YIxMgMF1)**"
   ]
  },
  {
   "cell_type": "code",
   "execution_count": 27,
   "metadata": {},
   "outputs": [
    {
     "data": {
      "text/html": [
       "<div class=\"krn-spql\"><table><tr class=hdr><th>count</th></tr><tr class=odd><td class=val>2</td></tr></table><div class=\"tinfo\">Total: 1, Shown: 1</div></div>"
      ]
     },
     "metadata": {},
     "output_type": "display_data"
    }
   ],
   "source": [
    "PREFIX rdfs: <http://www.w3.org/2000/01/rdf-schema#>\n",
    "PREFIX dbo:<http://dbpedia.org/ontology/>\n",
    "SELECT COUNT(?author) AS ?count\n",
    "WHERE {\n",
    "\t?book a dbo:Book .\n",
    "\t?book dbo:author ?author .\n",
    "\t?book rdfs:label ?title .\n",
    "FILTER(langMatches(lang(?title),\"en\"))\n",
    "FILTER(str(?title) = \"1066 and All That\")\n",
    "}"
   ]
  },
  {
   "cell_type": "markdown",
   "metadata": {},
   "source": [
    "c) **[List all books with a name in English starting with \"http\" (case-insensitive)](https://api.triplydb.com/s/T8cRK4S5K)**\n",
    "\n",
    "* **Hint:** use [langMatches](https://www.w3.org/TR/rdf-sparql-query/#func-langMatches), [STRSTARTS](https://www.w3.org/TR/sparql11-query/#func-strstarts) and [lcase](https://www.w3.org/TR/sparql11-query/#func-lcase) functions.\n",
    "* **Note:** there are no results for this query from DBPedia as of 26 February 2021, possibly due to modifications to the DBpedia triplestore."
   ]
  },
  {
   "cell_type": "code",
   "execution_count": 28,
   "metadata": {},
   "outputs": [
    {
     "data": {
      "text/html": [
       "<div class=\"krn-spql\"><table><tr class=hdr><th>name</th>\n",
       "<th>author</th></tr></table><div class=\"tinfo\">Total: 0, Shown: 0</div></div>"
      ]
     },
     "metadata": {},
     "output_type": "display_data"
    }
   ],
   "source": [
    "PREFIX rdfs: <http://www.w3.org/2000/01/rdf-schema#>\n",
    "PREFIX dbo:<http://dbpedia.org/ontology/>\n",
    "SELECT ?name ?author\n",
    "WHERE {\n",
    "\t?movie a dbo:Film ;\n",
    "    \trdfs:label ?name .\n",
    "\tFILTER (langMatches(lang(?name),\"en\"))\n",
    "    FILTER (STRSTARTS(lcase(str(?name)),\"http\"))\n",
    "}\n",
    "LIMIT 10"
   ]
  },
  {
   "cell_type": "markdown",
   "metadata": {
    "slideshow": {
     "slide_type": "subslide"
    }
   },
   "source": [
    "d) **[List all the unique book categories for all short books (less than 300 pages) written by authors who were born in Amsterdam](https://api.triplydb.com/s/DmWP3_cZ2)**\n",
    "\n",
    "* **Hint:** use the [dct:subject](http://udfr.org/docs/onto/dct_subject.html) property of a [dbo:Book](https://dbpedia.org/ontology/Book) to define \"category\" in this task.\n"
   ]
  },
  {
   "cell_type": "code",
   "execution_count": 29,
   "metadata": {
    "slideshow": {
     "slide_type": "fragment"
    }
   },
   "outputs": [
    {
     "data": {
      "text/html": [
       "<div class=\"krn-spql\"><table><tr class=hdr><th>category</th></tr><tr class=odd><td class=val><a href=\"http://dbpedia.org/resource/Category:Books_adapted_into_films\" target=\"_other\">http://dbpedia.org/resource/Category:Books_adapted_into_films</a></td></tr><tr class=even><td class=val><a href=\"http://dbpedia.org/resource/Category:Personal_accounts_of_the_Holocaust\" target=\"_other\">http://dbpedia.org/resource/Category:Personal_accounts_of_the_Holocaust</a></td></tr><tr class=odd><td class=val><a href=\"http://dbpedia.org/resource/Category:World_War_II_memoirs\" target=\"_other\">http://dbpedia.org/resource/Category:World_War_II_memoirs</a></td></tr><tr class=even><td class=val><a href=\"http://dbpedia.org/resource/Category:1971_non-fiction_books\" target=\"_other\">http://dbpedia.org/resource/Category:1971_non-fiction_books</a></td></tr><tr class=odd><td class=val><a href=\"http://dbpedia.org/resource/Category:Dutch_culture\" target=\"_other\">http://dbpedia.org/resource/Category:Dutch_culture</a></td></tr><tr class=even><td class=val><a href=\"http://dbpedia.org/resource/Category:Horses_in_literature\" target=\"_other\">http://dbpedia.org/resource/Category:Horses_in_literature</a></td></tr><tr class=odd><td class=val><a href=\"http://dbpedia.org/resource/Category:National_Book_Award_for_Young_People's_Literature_winning_works\" target=\"_other\">http://dbpedia.org/resource/Category:National_Book_Award_for_Young_People's_Literature_winning_works</a></td></tr><tr class=even><td class=val><a href=\"http://dbpedia.org/resource/Category:Pigs_in_literature\" target=\"_other\">http://dbpedia.org/resource/Category:Pigs_in_literature</a></td></tr><tr class=odd><td class=val><a href=\"http://dbpedia.org/resource/Category:American_children's_books\" target=\"_other\">http://dbpedia.org/resource/Category:American_children's_books</a></td></tr><tr class=even><td class=val><a href=\"http://dbpedia.org/resource/Category:American_picture_books\" target=\"_other\">http://dbpedia.org/resource/Category:American_picture_books</a></td></tr><tr class=odd><td class=val><a href=\"http://dbpedia.org/resource/Category:Doubleday_(publisher)_books\" target=\"_other\">http://dbpedia.org/resource/Category:Doubleday_(publisher)_books</a></td></tr><tr class=even><td class=val><a href=\"http://dbpedia.org/resource/Category:Caldecott_Medal-winning_works\" target=\"_other\">http://dbpedia.org/resource/Category:Caldecott_Medal-winning_works</a></td></tr><tr class=odd><td class=val><a href=\"http://dbpedia.org/resource/Category:Cattle_in_literature\" target=\"_other\">http://dbpedia.org/resource/Category:Cattle_in_literature</a></td></tr><tr class=even><td class=val><a href=\"http://dbpedia.org/resource/Category:1977_children's_books\" target=\"_other\">http://dbpedia.org/resource/Category:1977_children's_books</a></td></tr><tr class=odd><td class=val><a href=\"http://dbpedia.org/resource/Category:Books_about_dogs\" target=\"_other\">http://dbpedia.org/resource/Category:Books_about_dogs</a></td></tr><tr class=even><td class=val><a href=\"http://dbpedia.org/resource/Category:Books_about_elephants\" target=\"_other\">http://dbpedia.org/resource/Category:Books_about_elephants</a></td></tr><tr class=odd><td class=val><a href=\"http://dbpedia.org/resource/Category:Books_about_lions\" target=\"_other\">http://dbpedia.org/resource/Category:Books_about_lions</a></td></tr><tr class=even><td class=val><a href=\"http://dbpedia.org/resource/Category:Noah's_Ark_in_fiction\" target=\"_other\">http://dbpedia.org/resource/Category:Noah's_Ark_in_fiction</a></td></tr><tr class=odd><td class=val><a href=\"http://dbpedia.org/resource/Category:1966_novels\" target=\"_other\">http://dbpedia.org/resource/Category:1966_novels</a></td></tr><tr class=even><td class=val><a href=\"http://dbpedia.org/resource/Category:Dutch_novels\" target=\"_other\">http://dbpedia.org/resource/Category:Dutch_novels</a></td></tr></table><div class=\"tinfo\">Total: 24, Shown: 20</div></div>"
      ]
     },
     "metadata": {},
     "output_type": "display_data"
    }
   ],
   "source": [
    "PREFIX dct: <http://purl.org/dc/terms/>\n",
    "PREFIX dbr: <http://dbpedia.org/resource/>\n",
    "PREFIX dbo: <http://dbpedia.org/ontology/>\n",
    "SELECT DISTINCT (?category)\n",
    "WHERE {\n",
    "  ?s a dbo:Book .\n",
    "  ?s dbo:author ?author .\n",
    "  ?s dct:subject ?category .\n",
    "  ?author dbo:birthPlace dbr:Amsterdam .\n",
    "  ?s dbo:numberOfPages ?pages .\n",
    "  FILTER (?pages < 300)\n",
    "}"
   ]
  },
  {
   "cell_type": "markdown",
   "metadata": {},
   "source": [
    "e) **[variation of Task 3d) in which we sort the results by the number of pages - longest to shortest](https://api.triplydb.com/s/av1NdRr4n)**\n",
    "\n",
    "* **Note:** this task is an additional task not included in the original version of Lab 6."
   ]
  },
  {
   "cell_type": "code",
   "execution_count": 30,
   "metadata": {
    "slideshow": {
     "slide_type": "fragment"
    }
   },
   "outputs": [
    {
     "data": {
      "text/html": [
       "<div class=\"krn-spql\"><table><tr class=hdr><th>category</th></tr><tr class=odd><td class=val><a href=\"http://dbpedia.org/resource/Category:1966_novels\" target=\"_other\">http://dbpedia.org/resource/Category:1966_novels</a></td></tr><tr class=even><td class=val><a href=\"http://dbpedia.org/resource/Category:Dutch_novels\" target=\"_other\">http://dbpedia.org/resource/Category:Dutch_novels</a></td></tr><tr class=odd><td class=val><a href=\"http://dbpedia.org/resource/Category:De_Bezige_Bij_books\" target=\"_other\">http://dbpedia.org/resource/Category:De_Bezige_Bij_books</a></td></tr><tr class=even><td class=val><a href=\"http://dbpedia.org/resource/Category:Literary_works_by_Willem_Frederik_Hermans\" target=\"_other\">http://dbpedia.org/resource/Category:Literary_works_by_Willem_Frederik_Hermans</a></td></tr><tr class=odd><td class=val><a href=\"http://dbpedia.org/resource/Category:Books_adapted_into_films\" target=\"_other\">http://dbpedia.org/resource/Category:Books_adapted_into_films</a></td></tr><tr class=even><td class=val><a href=\"http://dbpedia.org/resource/Category:Personal_accounts_of_the_Holocaust\" target=\"_other\">http://dbpedia.org/resource/Category:Personal_accounts_of_the_Holocaust</a></td></tr><tr class=odd><td class=val><a href=\"http://dbpedia.org/resource/Category:World_War_II_memoirs\" target=\"_other\">http://dbpedia.org/resource/Category:World_War_II_memoirs</a></td></tr><tr class=even><td class=val><a href=\"http://dbpedia.org/resource/Category:1971_non-fiction_books\" target=\"_other\">http://dbpedia.org/resource/Category:1971_non-fiction_books</a></td></tr><tr class=odd><td class=val><a href=\"http://dbpedia.org/resource/Category:Dutch_culture\" target=\"_other\">http://dbpedia.org/resource/Category:Dutch_culture</a></td></tr><tr class=even><td class=val><a href=\"http://dbpedia.org/resource/Category:1953_short_story_collections\" target=\"_other\">http://dbpedia.org/resource/Category:1953_short_story_collections</a></td></tr><tr class=odd><td class=val><a href=\"http://dbpedia.org/resource/Category:Dutch_short_story_collections\" target=\"_other\">http://dbpedia.org/resource/Category:Dutch_short_story_collections</a></td></tr><tr class=even><td class=val><a href=\"http://dbpedia.org/resource/Category:Horses_in_literature\" target=\"_other\">http://dbpedia.org/resource/Category:Horses_in_literature</a></td></tr><tr class=odd><td class=val><a href=\"http://dbpedia.org/resource/Category:National_Book_Award_for_Young_People's_Literature_winning_works\" target=\"_other\">http://dbpedia.org/resource/Category:National_Book_Award_for_Young_People's_Literature_winning_works</a></td></tr><tr class=even><td class=val><a href=\"http://dbpedia.org/resource/Category:Pigs_in_literature\" target=\"_other\">http://dbpedia.org/resource/Category:Pigs_in_literature</a></td></tr><tr class=odd><td class=val><a href=\"http://dbpedia.org/resource/Category:American_children's_books\" target=\"_other\">http://dbpedia.org/resource/Category:American_children's_books</a></td></tr><tr class=even><td class=val><a href=\"http://dbpedia.org/resource/Category:American_picture_books\" target=\"_other\">http://dbpedia.org/resource/Category:American_picture_books</a></td></tr><tr class=odd><td class=val><a href=\"http://dbpedia.org/resource/Category:Doubleday_(publisher)_books\" target=\"_other\">http://dbpedia.org/resource/Category:Doubleday_(publisher)_books</a></td></tr><tr class=even><td class=val><a href=\"http://dbpedia.org/resource/Category:Caldecott_Medal-winning_works\" target=\"_other\">http://dbpedia.org/resource/Category:Caldecott_Medal-winning_works</a></td></tr><tr class=odd><td class=val><a href=\"http://dbpedia.org/resource/Category:Cattle_in_literature\" target=\"_other\">http://dbpedia.org/resource/Category:Cattle_in_literature</a></td></tr><tr class=even><td class=val><a href=\"http://dbpedia.org/resource/Category:1977_children's_books\" target=\"_other\">http://dbpedia.org/resource/Category:1977_children's_books</a></td></tr></table><div class=\"tinfo\">Total: 24, Shown: 20</div></div>"
      ]
     },
     "metadata": {},
     "output_type": "display_data"
    }
   ],
   "source": [
    "PREFIX dct: <http://purl.org/dc/terms/>\n",
    "PREFIX dbr: <http://dbpedia.org/resource/>\n",
    "PREFIX dbo: <http://dbpedia.org/ontology/>\n",
    "SELECT DISTINCT (?category)\n",
    "WHERE {\n",
    "  ?s a dbo:Book .\n",
    "  ?s dbo:author ?author .\n",
    "  ?s dct:subject ?category .\n",
    "  ?author dbo:birthPlace dbr:Amsterdam .\n",
    "  ?s dbo:numberOfPages ?pages .\n",
    "  FILTER (?pages < 300)\n",
    "}\n",
    "ORDER BY DESC(?pages)"
   ]
  },
  {
   "cell_type": "markdown",
   "metadata": {
    "slideshow": {
     "slide_type": "slide"
    }
   },
   "source": [
    "# Examples of other public SPARQL endpoints 🔗\n",
    "\n",
    "* Wikidata, facts powering Wikipedia infobox: https://query.wikidata.org/sparql\n",
    "* Bio2RDF, linked data for the life sciences: https://bio2rdf.org/sparql\n",
    "* Disgenet, gene-disease association: http://rdf.disgenet.org/sparql\n",
    "* PathwayCommons, resource for biological pathways analysis: http://rdf.pathwaycommons.org/sparql\n",
    "* EU publications office, court decisions and legislative documents from the EU: http://publications.europa.eu/webapi/rdf/sparql\n",
    "* Finland legal open data, cases and legislation: https://data.finlex.fi/en/sparql \n",
    "* EU Knowledge Graph, open knowledge graph containing general information about the European Union: [SPARQL endpoint](https://query.linkedopendata.eu/#SELECT%20DISTINCT%20%3Fo1%20WHERE%20%7B%0A%20%20%3Chttps%3A%2F%2Flinkedopendata.eu%2Fentity%2FQ1%3E%20%3Chttps%3A%2F%2Flinkedopendata.eu%2Fprop%2Fdirect%2FP62%3E%20%3Fo1%20.%20%0A%7D%20%0ALIMIT%201000)\n",
    "\n",
    "# SPARQL applied to the COVID pandemic: \n",
    "\n",
    "* Wikidata SPARQL queries around the SARS-CoV-2 virus and pandemic: https://egonw.github.io/SARS-CoV-2-Queries"
   ]
  }
 ],
 "metadata": {
  "kernelspec": {
   "display_name": "SPARQL",
   "language": "sparql",
   "name": "sparql"
  },
  "language_info": {
   "codemirror_mode": {
    "name": "sparql"
   },
   "mimetype": "application/sparql-query",
   "name": "sparql",
   "pygments_lexer": "sparql-nb"
  }
 },
 "nbformat": 4,
 "nbformat_minor": 4
}
