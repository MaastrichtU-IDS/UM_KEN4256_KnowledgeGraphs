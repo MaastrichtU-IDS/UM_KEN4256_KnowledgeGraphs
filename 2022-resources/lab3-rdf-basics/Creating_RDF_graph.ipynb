{
  "nbformat": 4,
  "nbformat_minor": 0,
  "metadata": {
    "colab": {
      "name": "Creating RDF graph.ipynb",
      "provenance": [],
      "collapsed_sections": []
    },
    "kernelspec": {
      "name": "python3",
      "display_name": "Python 3"
    }
  },
  "cells": [
    {
      "cell_type": "markdown",
      "metadata": {
        "id": "UDeikpHwyZzP"
      },
      "source": [
        "# **Creating RDF triples**\n",
        "## This notebook was adapted from Patimir's code: https://github.com/Patimir/yt-notebooks/blob/main/Creating_RDF_triples.ipynb\n",
        "\n",
        "RDF allows us to make statements about resources. A statement always has the following structure:\\\n",
        "`<subject> <predicate> <object>`.\n",
        "\n",
        "An RDF statement expresses a relationship between two resources. The subject and the object represent the two resources being related; the predicate represents the nature of their relationship. The relationship is phrased in a directional way (from subject to object) and is called in RDF a property. Because RDF statements consist of three elements they are called triples."
      ]
    },
    {
      "cell_type": "code",
      "metadata": {
        "id": "4AMD49H9lYw2",
        "colab": {
          "base_uri": "https://localhost:8080/"
        },
        "outputId": "93d09a81-fe69-4831-a2c4-fc096f0a448f"
      },
      "source": [
        "!pip install rdflib"
      ],
      "execution_count": 2,
      "outputs": [
        {
          "output_type": "stream",
          "name": "stdout",
          "text": [
            "Collecting rdflib\n",
            "  Downloading rdflib-6.1.1-py3-none-any.whl (482 kB)\n",
            "\u001b[?25l\r\u001b[K     |▊                               | 10 kB 24.9 MB/s eta 0:00:01\r\u001b[K     |█▍                              | 20 kB 27.6 MB/s eta 0:00:01\r\u001b[K     |██                              | 30 kB 17.0 MB/s eta 0:00:01\r\u001b[K     |██▊                             | 40 kB 12.0 MB/s eta 0:00:01\r\u001b[K     |███▍                            | 51 kB 8.1 MB/s eta 0:00:01\r\u001b[K     |████                            | 61 kB 8.5 MB/s eta 0:00:01\r\u001b[K     |████▊                           | 71 kB 7.2 MB/s eta 0:00:01\r\u001b[K     |█████▍                          | 81 kB 8.0 MB/s eta 0:00:01\r\u001b[K     |██████                          | 92 kB 6.7 MB/s eta 0:00:01\r\u001b[K     |██████▉                         | 102 kB 7.3 MB/s eta 0:00:01\r\u001b[K     |███████▌                        | 112 kB 7.3 MB/s eta 0:00:01\r\u001b[K     |████████▏                       | 122 kB 7.3 MB/s eta 0:00:01\r\u001b[K     |████████▉                       | 133 kB 7.3 MB/s eta 0:00:01\r\u001b[K     |█████████▌                      | 143 kB 7.3 MB/s eta 0:00:01\r\u001b[K     |██████████▏                     | 153 kB 7.3 MB/s eta 0:00:01\r\u001b[K     |██████████▉                     | 163 kB 7.3 MB/s eta 0:00:01\r\u001b[K     |███████████▌                    | 174 kB 7.3 MB/s eta 0:00:01\r\u001b[K     |████████████▏                   | 184 kB 7.3 MB/s eta 0:00:01\r\u001b[K     |█████████████                   | 194 kB 7.3 MB/s eta 0:00:01\r\u001b[K     |█████████████▋                  | 204 kB 7.3 MB/s eta 0:00:01\r\u001b[K     |██████████████▎                 | 215 kB 7.3 MB/s eta 0:00:01\r\u001b[K     |███████████████                 | 225 kB 7.3 MB/s eta 0:00:01\r\u001b[K     |███████████████▋                | 235 kB 7.3 MB/s eta 0:00:01\r\u001b[K     |████████████████▎               | 245 kB 7.3 MB/s eta 0:00:01\r\u001b[K     |█████████████████               | 256 kB 7.3 MB/s eta 0:00:01\r\u001b[K     |█████████████████▋              | 266 kB 7.3 MB/s eta 0:00:01\r\u001b[K     |██████████████████▎             | 276 kB 7.3 MB/s eta 0:00:01\r\u001b[K     |███████████████████             | 286 kB 7.3 MB/s eta 0:00:01\r\u001b[K     |███████████████████▊            | 296 kB 7.3 MB/s eta 0:00:01\r\u001b[K     |████████████████████▍           | 307 kB 7.3 MB/s eta 0:00:01\r\u001b[K     |█████████████████████           | 317 kB 7.3 MB/s eta 0:00:01\r\u001b[K     |█████████████████████▊          | 327 kB 7.3 MB/s eta 0:00:01\r\u001b[K     |██████████████████████▍         | 337 kB 7.3 MB/s eta 0:00:01\r\u001b[K     |███████████████████████         | 348 kB 7.3 MB/s eta 0:00:01\r\u001b[K     |███████████████████████▊        | 358 kB 7.3 MB/s eta 0:00:01\r\u001b[K     |████████████████████████▍       | 368 kB 7.3 MB/s eta 0:00:01\r\u001b[K     |█████████████████████████▏      | 378 kB 7.3 MB/s eta 0:00:01\r\u001b[K     |█████████████████████████▉      | 389 kB 7.3 MB/s eta 0:00:01\r\u001b[K     |██████████████████████████▌     | 399 kB 7.3 MB/s eta 0:00:01\r\u001b[K     |███████████████████████████▏    | 409 kB 7.3 MB/s eta 0:00:01\r\u001b[K     |███████████████████████████▉    | 419 kB 7.3 MB/s eta 0:00:01\r\u001b[K     |████████████████████████████▌   | 430 kB 7.3 MB/s eta 0:00:01\r\u001b[K     |█████████████████████████████▏  | 440 kB 7.3 MB/s eta 0:00:01\r\u001b[K     |█████████████████████████████▉  | 450 kB 7.3 MB/s eta 0:00:01\r\u001b[K     |██████████████████████████████▌ | 460 kB 7.3 MB/s eta 0:00:01\r\u001b[K     |███████████████████████████████▏| 471 kB 7.3 MB/s eta 0:00:01\r\u001b[K     |████████████████████████████████| 481 kB 7.3 MB/s eta 0:00:01\r\u001b[K     |████████████████████████████████| 482 kB 7.3 MB/s \n",
            "\u001b[?25hRequirement already satisfied: importlib-metadata in /usr/local/lib/python3.7/dist-packages (from rdflib) (4.10.1)\n",
            "Requirement already satisfied: setuptools in /usr/local/lib/python3.7/dist-packages (from rdflib) (57.4.0)\n",
            "Collecting isodate\n",
            "  Downloading isodate-0.6.1-py2.py3-none-any.whl (41 kB)\n",
            "\u001b[?25l\r\u001b[K     |███████▉                        | 10 kB 35.7 MB/s eta 0:00:01\r\u001b[K     |███████████████▊                | 20 kB 41.7 MB/s eta 0:00:01\r\u001b[K     |███████████████████████▋        | 30 kB 47.4 MB/s eta 0:00:01\r\u001b[K     |███████████████████████████████▍| 40 kB 51.9 MB/s eta 0:00:01\r\u001b[K     |████████████████████████████████| 41 kB 710 kB/s \n",
            "\u001b[?25hRequirement already satisfied: pyparsing in /usr/local/lib/python3.7/dist-packages (from rdflib) (3.0.7)\n",
            "Requirement already satisfied: typing-extensions>=3.6.4 in /usr/local/lib/python3.7/dist-packages (from importlib-metadata->rdflib) (3.10.0.2)\n",
            "Requirement already satisfied: zipp>=0.5 in /usr/local/lib/python3.7/dist-packages (from importlib-metadata->rdflib) (3.7.0)\n",
            "Requirement already satisfied: six in /usr/local/lib/python3.7/dist-packages (from isodate->rdflib) (1.15.0)\n",
            "Installing collected packages: isodate, rdflib\n",
            "Successfully installed isodate-0.6.1 rdflib-6.1.1\n"
          ]
        }
      ]
    },
    {
      "cell_type": "markdown",
      "metadata": {
        "id": "403cvmM5AeaT"
      },
      "source": [
        "## Creating Nodes\n",
        "\n",
        "The subjects and objects of the triples make up the nodes in the graph where the nodes are URI references, Blank Nodes or Literals. In RDFLib, these node types are represented by the classes **URIRef**, **BNode**, **Literal**. *URIRefs* and *Bnodes* can both be thought of as resources, such a person, a company, a website, etc.\n",
        "- A *BNode* is a node where the exact URI is not known.\n",
        "- A *URIRef* is a node where the exact URI is know. *URIRefs* are also used to represent the properties/predicates in the RDF graph.\n",
        "- *Literals* represent attribute values, such as a name, a date, a number, etc. The most common literal values are XML data types, e.g. string, int.."
      ]
    },
    {
      "cell_type": "markdown",
      "metadata": {
        "id": "1I3neplrD8hy"
      },
      "source": [
        "## Example RDF Graph\n",
        "\n",
        "![RDF Graph](https://raw.githubusercontent.com/MaastrichtU-IDS/UM_KEN4256_KnowledgeGraphs/master/2022-resources/lab3-rdf-basics/RDFGraphExample.png)\n",
        "\n",
        "### (Informal) Representation of the Graph\n",
        "`<Vincent_van_Gogh> <is a> <Artist>.`\\\n",
        "`<Vincent_van_Gogh> <born in> <Zundert>.`\\\n",
        "`<Vincent_van_Gogh> <is born on> <the 30th of March 1853>.`\\\n",
        "`<Zundert> <is a> <City>.`\\\n",
        "`<Zundert> <part of> <the Netherlands>.` \\\n",
        "`<The Starry Night> <is created by> <Vincent_van_Gogh>.` \\\n",
        "`<The Starry Night> <is a> <Artwork>`"
      ]
    },
    {
      "cell_type": "code",
      "metadata": {
        "id": "Y_qzkuxcAZRK"
      },
      "source": [
        "from rdflib import URIRef, BNode, Literal, Namespace\n",
        "from rdflib.namespace import XSD, RDF, RDFS\n",
        "\n",
        ")\n",
        "#define a namespace\n",
        "EX = Namespace('http://example.org/')\n",
        "starry_night = EX['Starry_Night']\n",
        "#starry_night = URIRef('http://example.org/Starry_Night')\n",
        "\n",
        "vincent_van_gogh = EX['Vincent_van_Gogh']\n",
        "zundert = EX['Zundert']\n",
        "netherlands = EX['Netherlands']\n",
        "\n",
        "birth_date = Literal(\"1853-03-30\", datatype=XSD['date'])\n",
        "title = Literal('The Starry Night', lang='en')"
      ],
      "execution_count": 3,
      "outputs": []
    },
    {
      "cell_type": "code",
      "metadata": {
        "id": "T9qhipQRGwuF",
        "colab": {
          "base_uri": "https://localhost:8080/",
          "height": 35
        },
        "outputId": "f966dd31-7af8-413d-ac45-1b3eb4a6145b"
      },
      "source": [
        "title"
      ],
      "execution_count": 4,
      "outputs": [
        {
          "output_type": "execute_result",
          "data": {
            "application/vnd.google.colaboratory.intrinsic+json": {
              "type": "string"
            },
            "text/plain": [
              "rdflib.term.Literal('The Starry Night', lang='en')"
            ]
          },
          "metadata": {},
          "execution_count": 4
        }
      ]
    },
    {
      "cell_type": "code",
      "metadata": {
        "id": "tC1iLOCkHnyS",
        "colab": {
          "base_uri": "https://localhost:8080/"
        },
        "outputId": "3c05e548-ca18-4664-8133-d3643c50f68f"
      },
      "source": [
        "from rdflib import Graph\n",
        "# initialize a graph\n",
        "g = Graph()\n",
        "\n",
        "# Bind prefix to namespace\n",
        "g.bind('ex', EX)\n",
        "\n",
        "# individuals and types\n",
        "g.add((vincent_van_gogh, RDF.type, EX['Artist']))\n",
        "g.add((zundert, RDF.type, EX['City']))\n",
        "g.add((netherlands, RDF.type, EX['Country']))\n",
        "g.add((starry_night, RDF.type, EX['Artwork']))\n",
        "\n",
        "# relations\n",
        "g.add((vincent_van_gogh, EX['bornIn'], zundert))\n",
        "g.add((zundert, EX['partOf'], netherlands))\n",
        "g.add((vincent_van_gogh, EX['createdBy'], starry_night))\n",
        "\n",
        "# data properties\n",
        "g.add((vincent_van_gogh, EX['birthDate'], birth_date))\n",
        "g.add((starry_night, RDFS.label, title))\n"
      ],
      "execution_count": 5,
      "outputs": [
        {
          "output_type": "execute_result",
          "data": {
            "text/plain": [
              "<Graph identifier=Nbb88fd4157dc4decbb93f5150d4532c6 (<class 'rdflib.graph.Graph'>)>"
            ]
          },
          "metadata": {},
          "execution_count": 5
        }
      ]
    },
    {
      "cell_type": "code",
      "metadata": {
        "id": "QT9iENftKa5v",
        "colab": {
          "base_uri": "https://localhost:8080/"
        },
        "outputId": "ca9987dc-45a9-427f-efc4-8ebd608fbb47"
      },
      "source": [
        "print(g.serialize(format='ttl'))"
      ],
      "execution_count": 6,
      "outputs": [
        {
          "output_type": "stream",
          "name": "stdout",
          "text": [
            "@prefix ex: <http://example.org/> .\n",
            "@prefix rdfs: <http://www.w3.org/2000/01/rdf-schema#> .\n",
            "@prefix xsd: <http://www.w3.org/2001/XMLSchema#> .\n",
            "\n",
            "ex:Vincent_van_Gogh a ex:Artist ;\n",
            "    ex:birthDate \"1853-03-30\"^^xsd:date ;\n",
            "    ex:bornIn ex:Zundert ;\n",
            "    ex:createdBy ex:Starry_Night .\n",
            "\n",
            "ex:Netherlands a ex:Country .\n",
            "\n",
            "ex:Starry_Night a ex:Artwork ;\n",
            "    rdfs:label \"The Starry Night\"@en .\n",
            "\n",
            "ex:Zundert a ex:City ;\n",
            "    ex:partOf ex:Netherlands .\n",
            "\n",
            "\n"
          ]
        }
      ]
    },
    {
      "cell_type": "code",
      "source": [
        "\n",
        "WD = Namespace('https://www.wikidata.org/wiki/')\n",
        "DB = Namespace('http://dbpedia.org/ontology/')\n",
        "PAV = Namespace('http://purl.org/pav/')\n",
        "starry_night = WD['Q45585']\n",
        "vincent_van_gogh = WD['Q5582']\n",
        "zundert = EX['Zundert']\n",
        "netherlands = EX['Netherlands']"
      ],
      "metadata": {
        "id": "e_s3h6Hkpl3h"
      },
      "execution_count": 7,
      "outputs": []
    },
    {
      "cell_type": "code",
      "source": [
        "from rdflib import Graph\n",
        "g = Graph()\n",
        "\n",
        "# Bind prefix to namespace\n",
        "g.bind('ex', EX)\n",
        "\n",
        "# individuals and types\n",
        "g.add((vincent_van_gogh, RDF.type, DB['Artist']))\n",
        "g.add((zundert, RDF.type, DB['City']))\n",
        "g.add((netherlands, RDF.type, EX['Country']))\n",
        "g.add((starry_night, RDF.type, DB['Artwork']))\n",
        "\n",
        "# relations\n",
        "g.add((vincent_van_gogh, DB['birthPlace'], zundert))\n",
        "g.add((zundert, DB['locatedInArea'], netherlands))\n",
        "g.add((vincent_van_gogh, PAV['createdBy'], starry_night))\n",
        "\n",
        "# data properties\n",
        "g.add((vincent_van_gogh, DB['birthDate'], birth_date))\n",
        "g.add((starry_night, RDFS.label, title))"
      ],
      "metadata": {
        "colab": {
          "base_uri": "https://localhost:8080/"
        },
        "id": "4lE4x0PUqhVt",
        "outputId": "4d56e577-3509-4637-cac1-e9ce7ba0e0b0"
      },
      "execution_count": 8,
      "outputs": [
        {
          "output_type": "execute_result",
          "data": {
            "text/plain": [
              "<Graph identifier=N827d3aac209a49d7ab31952c4a5df58c (<class 'rdflib.graph.Graph'>)>"
            ]
          },
          "metadata": {},
          "execution_count": 8
        }
      ]
    },
    {
      "cell_type": "code",
      "source": [
        "print(g.serialize(format='ttl'))\n"
      ],
      "metadata": {
        "colab": {
          "base_uri": "https://localhost:8080/"
        },
        "id": "Q9ljUCqHrqKX",
        "outputId": "67e0cbb4-9228-4b89-9309-84fd420d209d"
      },
      "execution_count": 9,
      "outputs": [
        {
          "output_type": "stream",
          "name": "stdout",
          "text": [
            "@prefix ex: <http://example.org/> .\n",
            "@prefix ns1: <http://dbpedia.org/ontology/> .\n",
            "@prefix ns2: <http://purl.org/pav/> .\n",
            "@prefix rdfs: <http://www.w3.org/2000/01/rdf-schema#> .\n",
            "@prefix xsd: <http://www.w3.org/2001/XMLSchema#> .\n",
            "\n",
            "<https://www.wikidata.org/wiki/Q5582> a ns1:Artist ;\n",
            "    ns1:birthDate \"1853-03-30\"^^xsd:date ;\n",
            "    ns1:birthPlace ex:Zundert ;\n",
            "    ns2:createdBy <https://www.wikidata.org/wiki/Q45585> .\n",
            "\n",
            "ex:Netherlands a ex:Country .\n",
            "\n",
            "ex:Zundert a ns1:City ;\n",
            "    ns1:locatedInArea ex:Netherlands .\n",
            "\n",
            "<https://www.wikidata.org/wiki/Q45585> a ns1:Artwork ;\n",
            "    rdfs:label \"The Starry Night\"@en .\n",
            "\n",
            "\n"
          ]
        }
      ]
    },
    {
      "cell_type": "markdown",
      "source": [
        "### As you can see ns1, ns2 namespace are not meaningful/readable. We need to bind prefixes to namespaces so that namespaces are more readable.\n",
        "\n"
      ],
      "metadata": {
        "id": "HAWm8Z-BtRCE"
      }
    },
    {
      "cell_type": "code",
      "source": [
        "g = Graph()\n",
        "\n",
        "# Bind prefix to namespace\n",
        "g.bind('ex', EX)\n",
        "# Bind prefix to namespace\n",
        "g.bind('wd', WD)\n",
        "g.bind('db', DB)\n",
        "g.bind('pav', PAV)\n",
        "\n",
        "# individuals and types\n",
        "g.add((vincent_van_gogh, RDF.type, DB['Artist']))\n",
        "g.add((zundert, RDF.type, DB['City']))\n",
        "g.add((netherlands, RDF.type, EX['Country']))\n",
        "g.add((starry_night, RDF.type, DB['Artwork']))\n",
        "\n",
        "# relations\n",
        "g.add((vincent_van_gogh, DB['birthPlace'], zundert))\n",
        "g.add((zundert, DB['locatedInArea'], netherlands))\n",
        "g.add((vincent_van_gogh, PAV['createdBy'], starry_night))\n",
        "\n",
        "# data properties\n",
        "g.add((vincent_van_gogh, DB['birthDate'], birth_date))\n",
        "g.add((starry_night, RDFS.label, title))"
      ],
      "metadata": {
        "colab": {
          "base_uri": "https://localhost:8080/"
        },
        "id": "-SQupOVSsqEb",
        "outputId": "bc667c45-dc8a-4c14-fe38-c1c0543e315f"
      },
      "execution_count": 10,
      "outputs": [
        {
          "output_type": "execute_result",
          "data": {
            "text/plain": [
              "<Graph identifier=Nd45edea276d34fb5b46e9d39bc2b0b01 (<class 'rdflib.graph.Graph'>)>"
            ]
          },
          "metadata": {},
          "execution_count": 10
        }
      ]
    },
    {
      "cell_type": "code",
      "source": [
        "print(g.serialize(format='ttl'))"
      ],
      "metadata": {
        "colab": {
          "base_uri": "https://localhost:8080/"
        },
        "id": "cJcA3v4HswT2",
        "outputId": "8c3613a8-08c0-49c2-b3fe-97e8180f83a0"
      },
      "execution_count": 11,
      "outputs": [
        {
          "output_type": "stream",
          "name": "stdout",
          "text": [
            "@prefix db: <http://dbpedia.org/ontology/> .\n",
            "@prefix ex: <http://example.org/> .\n",
            "@prefix pav: <http://purl.org/pav/> .\n",
            "@prefix rdfs: <http://www.w3.org/2000/01/rdf-schema#> .\n",
            "@prefix wd: <https://www.wikidata.org/wiki/> .\n",
            "@prefix xsd: <http://www.w3.org/2001/XMLSchema#> .\n",
            "\n",
            "wd:Q5582 a db:Artist ;\n",
            "    db:birthDate \"1853-03-30\"^^xsd:date ;\n",
            "    db:birthPlace ex:Zundert ;\n",
            "    pav:createdBy wd:Q45585 .\n",
            "\n",
            "ex:Netherlands a ex:Country .\n",
            "\n",
            "ex:Zundert a db:City ;\n",
            "    db:locatedInArea ex:Netherlands .\n",
            "\n",
            "wd:Q45585 a db:Artwork ;\n",
            "    rdfs:label \"The Starry Night\"@en .\n",
            "\n",
            "\n"
          ]
        }
      ]
    },
    {
      "cell_type": "code",
      "source": [
        "import os\n",
        "os.getcwd()"
      ],
      "metadata": {
        "colab": {
          "base_uri": "https://localhost:8080/",
          "height": 35
        },
        "id": "qjbJavPxqE_k",
        "outputId": "1d23c78e-f14a-4f75-d9a7-9d4f6c8cab45"
      },
      "execution_count": 13,
      "outputs": [
        {
          "output_type": "execute_result",
          "data": {
            "application/vnd.google.colaboratory.intrinsic+json": {
              "type": "string"
            },
            "text/plain": [
              "'/content'"
            ]
          },
          "metadata": {},
          "execution_count": 13
        }
      ]
    },
    {
      "cell_type": "code",
      "source": [
        "#save the graph in the Turtle syntax\n",
        "g.serialize(destination='output.ttl', format='ttl')"
      ],
      "metadata": {
        "colab": {
          "base_uri": "https://localhost:8080/"
        },
        "id": "FFiAw46NpnhM",
        "outputId": "7fd31853-17ac-474d-ec1c-5906b707479f"
      },
      "execution_count": 12,
      "outputs": [
        {
          "output_type": "stream",
          "name": "stdout",
          "text": [
            "[a rdfg:Graph;rdflib:storage [a rdflib:Store;rdfs:label 'Memory']].\n"
          ]
        }
      ]
    },
    {
      "cell_type": "code",
      "source": [
        "#save the graph in the Ntriples syntax\n",
        "g.serialize(destination='output.nt', format='nt')"
      ],
      "metadata": {
        "colab": {
          "base_uri": "https://localhost:8080/"
        },
        "id": "oVgD_kI-qQLc",
        "outputId": "85d40736-f13c-49c9-9cb2-499d4199c4fe"
      },
      "execution_count": 16,
      "outputs": [
        {
          "output_type": "stream",
          "name": "stdout",
          "text": [
            "[a rdfg:Graph;rdflib:storage [a rdflib:Store;rdfs:label 'Memory']].\n"
          ]
        },
        {
          "output_type": "stream",
          "name": "stderr",
          "text": [
            "/usr/local/lib/python3.7/dist-packages/rdflib/plugins/serializers/nt.py:37: UserWarning: NTSerializer always uses UTF-8 encoding. Given encoding was: None\n",
            "  \"NTSerializer always uses UTF-8 encoding. \"\n"
          ]
        }
      ]
    },
    {
      "cell_type": "code",
      "source": [
        "#save the graph in the Json-LD syntax\n",
        "g.serialize(destination='output.json-ld', format='json-ld')"
      ],
      "metadata": {
        "colab": {
          "base_uri": "https://localhost:8080/"
        },
        "id": "e0dWpEFRqch4",
        "outputId": "bb529e64-ddfe-428d-e478-fdcfe0edab8c"
      },
      "execution_count": 18,
      "outputs": [
        {
          "output_type": "stream",
          "name": "stdout",
          "text": [
            "[a rdfg:Graph;rdflib:storage [a rdflib:Store;rdfs:label 'Memory']].\n"
          ]
        }
      ]
    },
    {
      "cell_type": "code",
      "source": [
        "#loop through each triple in the graph\n",
        "for (sub, pred, obj) in g:\n",
        "  print (sub, pred, obj)"
      ],
      "metadata": {
        "colab": {
          "base_uri": "https://localhost:8080/"
        },
        "id": "cyoKqkTgq8MH",
        "outputId": "180dcde2-1429-44ff-d8f4-fc1f951e793e"
      },
      "execution_count": 19,
      "outputs": [
        {
          "output_type": "stream",
          "name": "stdout",
          "text": [
            "http://example.org/Zundert http://dbpedia.org/ontology/locatedInArea http://example.org/Netherlands\n",
            "http://example.org/Netherlands http://www.w3.org/1999/02/22-rdf-syntax-ns#type http://example.org/Country\n",
            "https://www.wikidata.org/wiki/Q5582 http://dbpedia.org/ontology/birthDate 1853-03-30\n",
            "https://www.wikidata.org/wiki/Q45585 http://www.w3.org/2000/01/rdf-schema#label The Starry Night\n",
            "https://www.wikidata.org/wiki/Q5582 http://dbpedia.org/ontology/birthPlace http://example.org/Zundert\n",
            "https://www.wikidata.org/wiki/Q45585 http://www.w3.org/1999/02/22-rdf-syntax-ns#type http://dbpedia.org/ontology/Artwork\n",
            "https://www.wikidata.org/wiki/Q5582 http://purl.org/pav/createdBy https://www.wikidata.org/wiki/Q45585\n",
            "http://example.org/Zundert http://www.w3.org/1999/02/22-rdf-syntax-ns#type http://dbpedia.org/ontology/City\n",
            "https://www.wikidata.org/wiki/Q5582 http://www.w3.org/1999/02/22-rdf-syntax-ns#type http://dbpedia.org/ontology/Artist\n"
          ]
        }
      ]
    },
    {
      "cell_type": "code",
      "metadata": {
        "id": "93g6ggp7d-Ux",
        "colab": {
          "base_uri": "https://localhost:8080/"
        },
        "outputId": "a14d9ba4-d6a1-45c9-c938-3c36833042c4"
      },
      "source": [
        "#load or parse the RDF file from local drive\n",
        "g.parse('output.ttl',format='ttl') "
      ],
      "execution_count": 22,
      "outputs": [
        {
          "output_type": "execute_result",
          "data": {
            "text/plain": [
              "<Graph identifier=Nd45edea276d34fb5b46e9d39bc2b0b01 (<class 'rdflib.graph.Graph'>)>"
            ]
          },
          "metadata": {},
          "execution_count": 22
        }
      ]
    },
    {
      "cell_type": "code",
      "source": [
        "#load or parse the RDF file from local drive\n",
        "g.parse('https://dbpedia.org/resource/Maastricht') "
      ],
      "metadata": {
        "colab": {
          "base_uri": "https://localhost:8080/"
        },
        "id": "emGGIfgJtp75",
        "outputId": "9ab2c18c-2554-42e6-d83e-bd9f3f766c7c"
      },
      "execution_count": 24,
      "outputs": [
        {
          "output_type": "execute_result",
          "data": {
            "text/plain": [
              "<Graph identifier=Nd45edea276d34fb5b46e9d39bc2b0b01 (<class 'rdflib.graph.Graph'>)>"
            ]
          },
          "metadata": {},
          "execution_count": 24
        }
      ]
    },
    {
      "cell_type": "code",
      "metadata": {
        "id": "tW8PWdoknUUW"
      },
      "source": [
        "#loop through each triple in the graph\n",
        "for (sub, pred, obj) in g:\n",
        "  print (sub, pred, obj)"
      ],
      "execution_count": null,
      "outputs": []
    },
    {
      "cell_type": "code",
      "metadata": {
        "id": "GKYY3rgJn46N",
        "colab": {
          "base_uri": "https://localhost:8080/"
        },
        "outputId": "f40139c7-1181-4299-8ef2-a32c4889b3b6"
      },
      "source": [
        "# print size of the graph\n",
        "print (len(g))"
      ],
      "execution_count": 29,
      "outputs": [
        {
          "output_type": "stream",
          "name": "stdout",
          "text": [
            "3165\n"
          ]
        }
      ]
    },
    {
      "cell_type": "code",
      "source": [
        "#list all subjects that are different than Maastricht\n",
        "for sub in g.subjects():\n",
        "  if sub != URIRef('http://dbpedia.org/resource/Maastricht'):\n",
        "    print (sub)"
      ],
      "metadata": {
        "id": "QMqHeKGOwyj9"
      },
      "execution_count": null,
      "outputs": []
    }
  ]
}