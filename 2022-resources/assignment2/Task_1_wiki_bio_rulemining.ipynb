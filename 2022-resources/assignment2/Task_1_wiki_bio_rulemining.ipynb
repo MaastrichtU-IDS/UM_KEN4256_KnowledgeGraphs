{
  "cells": [
    {
      "cell_type": "markdown",
      "metadata": {
        "id": "b6iDbdCTj6_g"
      },
      "source": [
        "#Task 1.a:\n",
        "\n",
        "We have applied AMIE_Plus (using default settings) on the training dataset with following command:\n",
        "```\n",
        "!java -jar amie_plus.jar biomedical_kg_train.txt > amie_result.txt\n",
        "```\n",
        "We checked mined rules, but did not observe any rule related to the relation: ‘drug or therapy used for treatment’ (P2176). Then we run AnyBurl tool with default settings which have been described in lab 12 using following command:\n",
        "```\n",
        "!java -Xmx12G -cp AnyBURL-JUNO.jar de.unima.ki.anyburl.LearnReinforced config-learn.properties\n",
        "```\n",
        "The output file generates rules-50 file which contains the extracted rules.  From this file, the three rules that we picked (1 high quality and 2 medium quality rules) are:\n",
        "```\n",
        "rule 1:\n",
        "2\t2\t1.0\t<http://www.wikidata.org/prop/direct/P2176>(<http://www.wikidata.org/entity/Q189331>,Y) <= <http://www.wikidata.org/prop/direct/P2176>(<http://www.wikidata.org/entity/Q593958>,Y)\n",
        "\n",
        "\n",
        "rule 2:\n",
        "5\t2\t0.4\t<http://www.wikidata.org/prop/direct/P2176>(<http://www.wikidata.org/entity/Q189331>,Y) <= <http://www.wikidata.org/prop/direct/P2176>(<http://www.wikidata.org/entity/Q220570>,Y)\n",
        "\n",
        "\n",
        "rule 3:\n",
        "2\t2\t1.0\t<http://www.wikidata.org/prop/direct/P2176>(<http://www.wikidata.org/entity/Q180762>,Y) <= <http://www.wikidata.org/prop/direct/P129>(<http://www.wikidata.org/entity/Q21102124>,Y)\n",
        "\n",
        "```\n"
      ]
    },
    {
      "cell_type": "markdown",
      "metadata": {
        "id": "D4-LiIkN6GZf"
      },
      "source": [
        "\n",
        "#Task 1.b:\n",
        "\n",
        "To predict candidate objects for given subject-predicate pairs in test dataset, we have identified rules which contain both i)‘drug or therapy used for treatment’ (P2176) relation and ii) the subject of test set triples. For group 4, the test set has the following triples:\n",
        "```\n",
        "<http://www.wikidata.org/entity/Q189331> <http://www.wikidata.org/prop/direct/P2176> <http://www.wikidata.org/entity/Q413591> .\n",
        "<http://www.wikidata.org/entity/Q189331> <http://www.wikidata.org/prop/direct/P2176> <http://www.wikidata.org/entity/Q904071> .\n",
        "<http://www.wikidata.org/entity/Q189331> <http://www.wikidata.org/prop/direct/P2176> <http://www.wikidata.org/entity/Q408637> .\n",
        "\n",
        "```\n",
        "We have listed all rules which can used for prediction as following:\n",
        "```\n",
        "rule 1: 2\t2\t1.0\t<http://www.wikidata.org/prop/direct/P2176>(<http://www.wikidata.org/entity/Q189331>,Y) <= <http://www.wikidata.org/prop/direct/P2176>(<http://www.wikidata.org/entity/Q593958>,Y)\n",
        "rule 2: 5\t2\t0.4\t<http://www.wikidata.org/prop/direct/P2176>(<http://www.wikidata.org/entity/Q189331>,Y) <= <http://www.wikidata.org/prop/direct/P2176>(<http://www.wikidata.org/entity/Q220570>,Y)\n",
        "rule 3: 222\t2\t0.009009009009009009\t<http://www.wikidata.org/prop/direct/P2176>(<http://www.wikidata.org/entity/Q189331>,Y) <= <http://www.wikidata.org/prop/direct/P129>(A,Y)\n",
        "rule 4: 535\t4\t0.007476635514018692\t<http://www.wikidata.org/prop/direct/P2176>(<http://www.wikidata.org/entity/Q189331>,Y) <= <http://www.wikidata.org/prop/direct/P2176>(A,Y)\n",
        "rule 5: 11\t3\t0.2727272727272727\t<http://www.wikidata.org/prop/direct/P2176>(<http://www.wikidata.org/entity/Q189331>,Y) <= <http://www.wikidata.org/prop/direct/P2176>(<http://www.wikidata.org/entity/Q190805>,Y)\n",
        "rule 6: 11\t2\t0.18181818181818182\t<http://www.wikidata.org/prop/direct/P2176>(<http://www.wikidata.org/entity/Q189331>,Y) <= <http://www.wikidata.org/prop/direct/P2176>(<http://www.wikidata.org/entity/Q815819>,Y)\n",
        "rule 7: 574\t3\t0.005226480836236934\t<http://www.wikidata.org/prop/direct/P2176>(<http://www.wikidata.org/entity/Q189331>,Y) <= <http://www.wikidata.org/prop/direct/P2868>(Y,A)\n",
        "rule 8: 22\t2\t0.09090909090909091\t<http://www.wikidata.org/prop/direct/P2176>(<http://www.wikidata.org/entity/Q189331>,Y) <= <http://www.wikidata.org/prop/direct/P2868>(Y,<http://www.wikidata.org/entity/Q241549>)\n",
        "\n",
        "\n",
        "```\n",
        "Then we need to convert these rules to SPARQL queries.\n",
        "\n",
        "\n",
        "For each rule, we will create a SELECT or CONSTRUCT query in order to apply this rule to our knowledge graph and produce predicions. The general template for queries has the following structure:\n",
        "\n",
        "```\n",
        "CONSTRUCT {Head relation}\n",
        "\n",
        "WHERE {\n",
        "\n",
        "Body relation\n",
        "\n",
        "MINUS {Head Relation}\n",
        "\n",
        "}\n",
        "```\n",
        "\n",
        "If we apply INSERT SPARQL query instead of CONSTRUCT or SELECT query, it would change our knowledge graph content, and thus we would affect the predictions and confidences of the rules. This is why we will be using CONSTRUCT SPARQL queries, which do not change the content of the knowledge graph. Alternatively we can use SELECT queries. \n",
        "\n",
        "For example, we apply only rule 1 for generation of our predictions:\n",
        "\n",
        "```\n",
        "rule 1:\n",
        "\n",
        "<http://www.wikidata.org/prop/direct/P2176>(<http://www.wikidata.org/entity/Q189331>,Y) <= <http://www.wikidata.org/prop/direct/P2176>(<http://www.wikidata.org/entity/Q593958>,Y)\n",
        "\n",
        "```\n",
        "\n",
        "```\n",
        "CONSTRUCT { <http://www.wikidata.org/entity/Q189331> <http://www.wikidata.org/prop/direct/P2176> ?y }\n",
        "where {\n",
        "<http://www.wikidata.org/entity/Q593958> <http://www.wikidata.org/prop/direct/P2176> ?y\n",
        "\n",
        "MINUS { <http://www.wikidata.org/entity/Q189331> <http://www.wikidata.org/prop/direct/P2176> ?y }\n",
        "}\n",
        "```"
      ]
    },
    {
      "cell_type": "markdown",
      "metadata": {
        "id": "o_yOozJ-eW2O"
      },
      "source": [
        "For applying each rule we can either use GraphDB or rdflib library. The Top 10 predictions for each triple in the test dataset is shown in Table below. \n",
        "\n",
        "By aplying rule 6 with confidance score of 0.1818181 we get prediction for Triple 1 of test dataset\n",
        "```\n",
        "Triple 1: <http://www.wikidata.org/entity/Q189331> <http://www.wikidata.org/prop/direct/P2176> <http://www.wikidata.org/entity/Q413591>\n",
        "\n",
        "```\n",
        "\n",
        "\n",
        "| Subject | Predicate | Object |Confidence|\n",
        "| --- | --- | --- | --- |\n",
        "| http://www.wikidata.org/entity/Q189331 | http://www.wikidata.org/prop/direct/P2176 | http://www.wikidata.org/entity/Q7700570| 0.1818181 |\n",
        "| http://www.wikidata.org/entity/Q189331 | http://www.wikidata.org/prop/direct/P2176 | http://www.wikidata.org/entity/Q407431| 0.1818181 |\n",
        "| http://www.wikidata.org/entity/Q189331 | http://www.wikidata.org/prop/direct/P2176 | http://www.wikidata.org/entity/Q408637| 0.1818181 |\n",
        "| http://www.wikidata.org/entity/Q189331 | http://www.wikidata.org/prop/direct/P2176 | http://www.wikidata.org/entity/Q20078502| 0.1818181|\n",
        "| http://www.wikidata.org/entity/Q189331 | http://www.wikidata.org/prop/direct/P2176 | http://www.wikidata.org/entity/Q411325 | 0.1818181 |\n",
        "| http://www.wikidata.org/entity/Q189331 | http://www.wikidata.org/prop/direct/P2176 |http://www.wikidata.org/entity/Q18216 | 0.1818181|\n",
        "| http://www.wikidata.org/entity/Q189331 | http://www.wikidata.org/prop/direct/P2176 |  http://www.wikidata.org/entity/Q410291| 0.1818181 |\n",
        "| http://www.wikidata.org/entity/Q189331 | http://www.wikidata.org/prop/direct/P2176 | http://www.wikidata.org/entity/Q422222 | 0.1818181 |\n",
        "| http://www.wikidata.org/entity/Q189331 | http://www.wikidata.org/prop/direct/P2176 | http://www.wikidata.org/entity/Q3712521 | 0.1818181 |\n",
        "| http://www.wikidata.org/entity/Q189331 | http://www.wikidata.org/prop/direct/P2176 | http://www.wikidata.org/entity/Q413591| 0.1818181 |\n",
        "\n",
        "None of the rules make a hit in top 10 predictions for Triple 2 and Triple 3 of test set.\n",
        "The top 10 predictions have one match for the test triples which means the average Hits@10 score formula (explained in lecture 8) will be:\n",
        "\n",
        "**average Hits@10 score:**(1+0+0)/3=1/3\n",
        "\n",
        "\n",
        "An example of applying a rule(rule 1) and getting the predictions for candidate drugs to treat heart arrhythmia (Q189331) disease is as follows:"
      ]
    },
    {
      "cell_type": "code",
      "execution_count": null,
      "metadata": {
        "colab": {
          "base_uri": "https://localhost:8080/"
        },
        "id": "aQfl1h78j6_m",
        "outputId": "95502baf-68c3-4da1-dcc5-b0f1d1419760"
      },
      "outputs": [],
      "source": [
        "!pip install rdflib"
      ]
    },
    {
      "cell_type": "code",
      "execution_count": 2,
      "metadata": {
        "id": "Mgxehph4Ud-c"
      },
      "outputs": [],
      "source": [
        "import pandas as pd\n",
        "import numpy as np\n",
        "\n",
        "DISPLAY_ALL_TEXT = False\n",
        "pd.set_option(\"display.max_colwidth\", 0 if DISPLAY_ALL_TEXT else 50)"
      ]
    },
    {
      "cell_type": "code",
      "execution_count": 3,
      "metadata": {
        "id": "LAOGWU_ZQ91K"
      },
      "outputs": [],
      "source": [
        "import rdflib"
      ]
    },
    {
      "cell_type": "code",
      "execution_count": 4,
      "metadata": {
        "id": "eMyvhe0a7Vwh"
      },
      "outputs": [],
      "source": [
        "from rdflib import Namespace\n",
        "from rdflib import Graph, URIRef, Literal, RDF, ConjunctiveGraph\n",
        "from rdflib.plugins.sparql import prepareQuery\n",
        "import datetime"
      ]
    },
    {
      "cell_type": "code",
      "execution_count": 5,
      "metadata": {
        "colab": {
          "base_uri": "https://localhost:8080/"
        },
        "id": "mzOnGrLL7Vwk",
        "outputId": "49afedfc-8fbd-40d7-f67e-5240029df7a2"
      },
      "outputs": [
        {
          "data": {
            "text/plain": [
              "<Graph identifier=N0ad0442428ee4c1480999ef5fcab135f (<class 'rdflib.graph.Graph'>)>"
            ]
          },
          "execution_count": 5,
          "metadata": {},
          "output_type": "execute_result"
        }
      ],
      "source": [
        "g = Graph()\n",
        "g.parse(\"biomedical_kg_train.txt\", format='ntriples')"
      ]
    },
    {
      "cell_type": "markdown",
      "metadata": {
        "id": "ye_Q8cgTiNxg"
      },
      "source": [
        "***generate_predictions(rule1)*** takes a rule (in our case with the subject being a disease uri) and  returns the results of the corresponding sparql query for the rule."
      ]
    },
    {
      "cell_type": "code",
      "execution_count": 6,
      "metadata": {
        "id": "8qJ-K-cdJYgv"
      },
      "outputs": [],
      "source": [
        "def generate_predictions(rule_query):\n",
        "\n",
        "    sparql = rule_query\n",
        "    print(sparql)\n",
        "\n",
        "    qres= g.query(sparql)\n",
        "    \n",
        "    results = []\n",
        "    for row in qres:\n",
        "        results.append((str(row[0]),str(row[1]),str(row[2])))\n",
        "    return pd.DataFrame(results, columns=['Subject','Predicate','Object'])"
      ]
    },
    {
      "cell_type": "markdown",
      "metadata": {
        "id": "eJR6EI8Cjp7y"
      },
      "source": [
        "The disease (subject) in the given test data is heart arrhythmia (Q189331)\n",
        "\n",
        "The rule will predict drugs(objects) which can treat heart arrhythmia disease"
      ]
    },
    {
      "cell_type": "code",
      "execution_count": 7,
      "metadata": {
        "id": "swoubGi5COnR"
      },
      "outputs": [],
      "source": [
        "rule1_query = \"\"\"CONSTRUCT { <http://www.wikidata.org/entity/Q189331> <http://www.wikidata.org/prop/direct/P2176> ?y }\n",
        "where {\n",
        "<http://www.wikidata.org/entity/Q593958> <http://www.wikidata.org/prop/direct/P2176> ?y\n",
        "\n",
        "MINUS { <http://www.wikidata.org/entity/Q189331> <http://www.wikidata.org/prop/direct/P2176> ?y }\n",
        "\n",
        "}\"\"\""
      ]
    },
    {
      "cell_type": "code",
      "execution_count": 8,
      "metadata": {
        "colab": {
          "base_uri": "https://localhost:8080/",
          "height": 358
        },
        "id": "9pgwCywmgI5p",
        "outputId": "c07960d5-5ad5-41f0-ff7c-d4d847ebac1d"
      },
      "outputs": [
        {
          "name": "stdout",
          "output_type": "stream",
          "text": [
            "CONSTRUCT { <http://www.wikidata.org/entity/Q189331> <http://www.wikidata.org/prop/direct/P2176> ?y }\n",
            "where {\n",
            "<http://www.wikidata.org/entity/Q593958> <http://www.wikidata.org/prop/direct/P2176> ?y\n",
            "\n",
            "MINUS { <http://www.wikidata.org/entity/Q189331> <http://www.wikidata.org/prop/direct/P2176> ?y }\n",
            "\n",
            "}\n"
          ]
        },
        {
          "data": {
            "text/html": [
              "<div>\n",
              "<style scoped>\n",
              "    .dataframe tbody tr th:only-of-type {\n",
              "        vertical-align: middle;\n",
              "    }\n",
              "\n",
              "    .dataframe tbody tr th {\n",
              "        vertical-align: top;\n",
              "    }\n",
              "\n",
              "    .dataframe thead th {\n",
              "        text-align: right;\n",
              "    }\n",
              "</style>\n",
              "<table border=\"1\" class=\"dataframe\">\n",
              "  <thead>\n",
              "    <tr style=\"text-align: right;\">\n",
              "      <th></th>\n",
              "      <th>Subject</th>\n",
              "      <th>Predicate</th>\n",
              "      <th>Object</th>\n",
              "    </tr>\n",
              "  </thead>\n",
              "  <tbody>\n",
              "    <tr>\n",
              "      <th>0</th>\n",
              "      <td>http://www.wikidata.org/entity/Q189331</td>\n",
              "      <td>http://www.wikidata.org/prop/direct/P2176</td>\n",
              "      <td>http://www.wikidata.org/entity/Q407431</td>\n",
              "    </tr>\n",
              "    <tr>\n",
              "      <th>1</th>\n",
              "      <td>http://www.wikidata.org/entity/Q189331</td>\n",
              "      <td>http://www.wikidata.org/prop/direct/P2176</td>\n",
              "      <td>http://www.wikidata.org/entity/Q410237</td>\n",
              "    </tr>\n",
              "    <tr>\n",
              "      <th>2</th>\n",
              "      <td>http://www.wikidata.org/entity/Q189331</td>\n",
              "      <td>http://www.wikidata.org/prop/direct/P2176</td>\n",
              "      <td>http://www.wikidata.org/entity/Q48566705</td>\n",
              "    </tr>\n",
              "  </tbody>\n",
              "</table>\n",
              "</div>"
            ],
            "text/plain": [
              "                                  Subject  \\\n",
              "0  http://www.wikidata.org/entity/Q189331   \n",
              "1  http://www.wikidata.org/entity/Q189331   \n",
              "2  http://www.wikidata.org/entity/Q189331   \n",
              "\n",
              "                                   Predicate  \\\n",
              "0  http://www.wikidata.org/prop/direct/P2176   \n",
              "1  http://www.wikidata.org/prop/direct/P2176   \n",
              "2  http://www.wikidata.org/prop/direct/P2176   \n",
              "\n",
              "                                     Object  \n",
              "0    http://www.wikidata.org/entity/Q407431  \n",
              "1    http://www.wikidata.org/entity/Q410237  \n",
              "2  http://www.wikidata.org/entity/Q48566705  "
            ]
          },
          "execution_count": 8,
          "metadata": {},
          "output_type": "execute_result"
        }
      ],
      "source": [
        "\n",
        "predictions= generate_predictions(rule1_query)\n",
        "predictions\n"
      ]
    },
    {
      "cell_type": "code",
      "execution_count": 9,
      "metadata": {
        "id": "R8AU6JFHnvXx"
      },
      "outputs": [],
      "source": [
        "rule2_query = \"\"\"CONSTRUCT { <http://www.wikidata.org/entity/Q189331> <http://www.wikidata.org/prop/direct/P2176> ?y }\n",
        "where {\n",
        "<http://www.wikidata.org/entity/Q220570> <http://www.wikidata.org/prop/direct/P2176> ?y\n",
        "MINUS { <http://www.wikidata.org/entity/Q189331> <http://www.wikidata.org/prop/direct/P2176> ?y }\n",
        "\n",
        "}\"\"\"\n"
      ]
    },
    {
      "cell_type": "code",
      "execution_count": 10,
      "metadata": {
        "colab": {
          "base_uri": "https://localhost:8080/",
          "height": 389
        },
        "id": "UejnEdYhn6RW",
        "outputId": "f667ad38-d907-49a3-a211-84af0944dafb"
      },
      "outputs": [
        {
          "name": "stdout",
          "output_type": "stream",
          "text": [
            "CONSTRUCT { <http://www.wikidata.org/entity/Q189331> <http://www.wikidata.org/prop/direct/P2176> ?y }\n",
            "where {\n",
            "<http://www.wikidata.org/entity/Q220570> <http://www.wikidata.org/prop/direct/P2176> ?y\n",
            "MINUS { <http://www.wikidata.org/entity/Q189331> <http://www.wikidata.org/prop/direct/P2176> ?y }\n",
            "\n",
            "}\n"
          ]
        },
        {
          "data": {
            "text/html": [
              "<div>\n",
              "<style scoped>\n",
              "    .dataframe tbody tr th:only-of-type {\n",
              "        vertical-align: middle;\n",
              "    }\n",
              "\n",
              "    .dataframe tbody tr th {\n",
              "        vertical-align: top;\n",
              "    }\n",
              "\n",
              "    .dataframe thead th {\n",
              "        text-align: right;\n",
              "    }\n",
              "</style>\n",
              "<table border=\"1\" class=\"dataframe\">\n",
              "  <thead>\n",
              "    <tr style=\"text-align: right;\">\n",
              "      <th></th>\n",
              "      <th>Subject</th>\n",
              "      <th>Predicate</th>\n",
              "      <th>Object</th>\n",
              "    </tr>\n",
              "  </thead>\n",
              "  <tbody>\n",
              "    <tr>\n",
              "      <th>0</th>\n",
              "      <td>http://www.wikidata.org/entity/Q189331</td>\n",
              "      <td>http://www.wikidata.org/prop/direct/P2176</td>\n",
              "      <td>http://www.wikidata.org/entity/Q407431</td>\n",
              "    </tr>\n",
              "    <tr>\n",
              "      <th>1</th>\n",
              "      <td>http://www.wikidata.org/entity/Q189331</td>\n",
              "      <td>http://www.wikidata.org/prop/direct/P2176</td>\n",
              "      <td>http://www.wikidata.org/entity/Q414462</td>\n",
              "    </tr>\n",
              "    <tr>\n",
              "      <th>2</th>\n",
              "      <td>http://www.wikidata.org/entity/Q189331</td>\n",
              "      <td>http://www.wikidata.org/prop/direct/P2176</td>\n",
              "      <td>http://www.wikidata.org/entity/Q45769835</td>\n",
              "    </tr>\n",
              "  </tbody>\n",
              "</table>\n",
              "</div>"
            ],
            "text/plain": [
              "                                  Subject  \\\n",
              "0  http://www.wikidata.org/entity/Q189331   \n",
              "1  http://www.wikidata.org/entity/Q189331   \n",
              "2  http://www.wikidata.org/entity/Q189331   \n",
              "\n",
              "                                   Predicate  \\\n",
              "0  http://www.wikidata.org/prop/direct/P2176   \n",
              "1  http://www.wikidata.org/prop/direct/P2176   \n",
              "2  http://www.wikidata.org/prop/direct/P2176   \n",
              "\n",
              "                                     Object  \n",
              "0    http://www.wikidata.org/entity/Q407431  \n",
              "1    http://www.wikidata.org/entity/Q414462  \n",
              "2  http://www.wikidata.org/entity/Q45769835  "
            ]
          },
          "execution_count": 10,
          "metadata": {},
          "output_type": "execute_result"
        }
      ],
      "source": [
        "predictions= generate_predictions(rule2_query)\n",
        "predictions"
      ]
    },
    {
      "cell_type": "code",
      "execution_count": 11,
      "metadata": {
        "id": "jRVZp2PAqIzk"
      },
      "outputs": [],
      "source": [
        "rule4_query = \"\"\"CONSTRUCT { <http://www.wikidata.org/entity/Q189331> <http://www.wikidata.org/prop/direct/P2176> ?y }\n",
        "where {\n",
        "?b <http://www.wikidata.org/prop/direct/P2176> ?y\n",
        "MINUS { <http://www.wikidata.org/entity/Q189331> <http://www.wikidata.org/prop/direct/P2176> ?y }\n",
        "\n",
        "}\"\"\"\n"
      ]
    },
    {
      "cell_type": "code",
      "execution_count": 12,
      "metadata": {
        "colab": {
          "base_uri": "https://localhost:8080/",
          "height": 576
        },
        "id": "20NP9q5wqUuK",
        "outputId": "664fe409-645e-42a9-9ea0-e132c69a5bd1"
      },
      "outputs": [
        {
          "name": "stdout",
          "output_type": "stream",
          "text": [
            "CONSTRUCT { <http://www.wikidata.org/entity/Q189331> <http://www.wikidata.org/prop/direct/P2176> ?y }\n",
            "where {\n",
            "?b <http://www.wikidata.org/prop/direct/P2176> ?y\n",
            "MINUS { <http://www.wikidata.org/entity/Q189331> <http://www.wikidata.org/prop/direct/P2176> ?y }\n",
            "\n",
            "}\n"
          ]
        },
        {
          "data": {
            "text/html": [
              "<div>\n",
              "<style scoped>\n",
              "    .dataframe tbody tr th:only-of-type {\n",
              "        vertical-align: middle;\n",
              "    }\n",
              "\n",
              "    .dataframe tbody tr th {\n",
              "        vertical-align: top;\n",
              "    }\n",
              "\n",
              "    .dataframe thead th {\n",
              "        text-align: right;\n",
              "    }\n",
              "</style>\n",
              "<table border=\"1\" class=\"dataframe\">\n",
              "  <thead>\n",
              "    <tr style=\"text-align: right;\">\n",
              "      <th></th>\n",
              "      <th>Subject</th>\n",
              "      <th>Predicate</th>\n",
              "      <th>Object</th>\n",
              "    </tr>\n",
              "  </thead>\n",
              "  <tbody>\n",
              "    <tr>\n",
              "      <th>0</th>\n",
              "      <td>http://www.wikidata.org/entity/Q189331</td>\n",
              "      <td>http://www.wikidata.org/prop/direct/P2176</td>\n",
              "      <td>http://www.wikidata.org/entity/Q2502747</td>\n",
              "    </tr>\n",
              "    <tr>\n",
              "      <th>1</th>\n",
              "      <td>http://www.wikidata.org/entity/Q189331</td>\n",
              "      <td>http://www.wikidata.org/prop/direct/P2176</td>\n",
              "      <td>http://www.wikidata.org/entity/Q408283</td>\n",
              "    </tr>\n",
              "    <tr>\n",
              "      <th>2</th>\n",
              "      <td>http://www.wikidata.org/entity/Q189331</td>\n",
              "      <td>http://www.wikidata.org/prop/direct/P2176</td>\n",
              "      <td>http://www.wikidata.org/entity/Q415167</td>\n",
              "    </tr>\n",
              "    <tr>\n",
              "      <th>3</th>\n",
              "      <td>http://www.wikidata.org/entity/Q189331</td>\n",
              "      <td>http://www.wikidata.org/prop/direct/P2176</td>\n",
              "      <td>http://www.wikidata.org/entity/Q420164</td>\n",
              "    </tr>\n",
              "    <tr>\n",
              "      <th>4</th>\n",
              "      <td>http://www.wikidata.org/entity/Q189331</td>\n",
              "      <td>http://www.wikidata.org/prop/direct/P2176</td>\n",
              "      <td>http://www.wikidata.org/entity/Q7636169</td>\n",
              "    </tr>\n",
              "    <tr>\n",
              "      <th>...</th>\n",
              "      <td>...</td>\n",
              "      <td>...</td>\n",
              "      <td>...</td>\n",
              "    </tr>\n",
              "    <tr>\n",
              "      <th>617</th>\n",
              "      <td>http://www.wikidata.org/entity/Q189331</td>\n",
              "      <td>http://www.wikidata.org/prop/direct/P2176</td>\n",
              "      <td>http://www.wikidata.org/entity/Q415739</td>\n",
              "    </tr>\n",
              "    <tr>\n",
              "      <th>618</th>\n",
              "      <td>http://www.wikidata.org/entity/Q189331</td>\n",
              "      <td>http://www.wikidata.org/prop/direct/P2176</td>\n",
              "      <td>http://www.wikidata.org/entity/Q2858961</td>\n",
              "    </tr>\n",
              "    <tr>\n",
              "      <th>619</th>\n",
              "      <td>http://www.wikidata.org/entity/Q189331</td>\n",
              "      <td>http://www.wikidata.org/prop/direct/P2176</td>\n",
              "      <td>http://www.wikidata.org/entity/Q203618</td>\n",
              "    </tr>\n",
              "    <tr>\n",
              "      <th>620</th>\n",
              "      <td>http://www.wikidata.org/entity/Q189331</td>\n",
              "      <td>http://www.wikidata.org/prop/direct/P2176</td>\n",
              "      <td>http://www.wikidata.org/entity/Q1994556</td>\n",
              "    </tr>\n",
              "    <tr>\n",
              "      <th>621</th>\n",
              "      <td>http://www.wikidata.org/entity/Q189331</td>\n",
              "      <td>http://www.wikidata.org/prop/direct/P2176</td>\n",
              "      <td>http://www.wikidata.org/entity/Q5186964</td>\n",
              "    </tr>\n",
              "  </tbody>\n",
              "</table>\n",
              "<p>622 rows × 3 columns</p>\n",
              "</div>"
            ],
            "text/plain": [
              "                                    Subject  \\\n",
              "0    http://www.wikidata.org/entity/Q189331   \n",
              "1    http://www.wikidata.org/entity/Q189331   \n",
              "2    http://www.wikidata.org/entity/Q189331   \n",
              "3    http://www.wikidata.org/entity/Q189331   \n",
              "4    http://www.wikidata.org/entity/Q189331   \n",
              "..                                      ...   \n",
              "617  http://www.wikidata.org/entity/Q189331   \n",
              "618  http://www.wikidata.org/entity/Q189331   \n",
              "619  http://www.wikidata.org/entity/Q189331   \n",
              "620  http://www.wikidata.org/entity/Q189331   \n",
              "621  http://www.wikidata.org/entity/Q189331   \n",
              "\n",
              "                                     Predicate  \\\n",
              "0    http://www.wikidata.org/prop/direct/P2176   \n",
              "1    http://www.wikidata.org/prop/direct/P2176   \n",
              "2    http://www.wikidata.org/prop/direct/P2176   \n",
              "3    http://www.wikidata.org/prop/direct/P2176   \n",
              "4    http://www.wikidata.org/prop/direct/P2176   \n",
              "..                                         ...   \n",
              "617  http://www.wikidata.org/prop/direct/P2176   \n",
              "618  http://www.wikidata.org/prop/direct/P2176   \n",
              "619  http://www.wikidata.org/prop/direct/P2176   \n",
              "620  http://www.wikidata.org/prop/direct/P2176   \n",
              "621  http://www.wikidata.org/prop/direct/P2176   \n",
              "\n",
              "                                      Object  \n",
              "0    http://www.wikidata.org/entity/Q2502747  \n",
              "1     http://www.wikidata.org/entity/Q408283  \n",
              "2     http://www.wikidata.org/entity/Q415167  \n",
              "3     http://www.wikidata.org/entity/Q420164  \n",
              "4    http://www.wikidata.org/entity/Q7636169  \n",
              "..                                       ...  \n",
              "617   http://www.wikidata.org/entity/Q415739  \n",
              "618  http://www.wikidata.org/entity/Q2858961  \n",
              "619   http://www.wikidata.org/entity/Q203618  \n",
              "620  http://www.wikidata.org/entity/Q1994556  \n",
              "621  http://www.wikidata.org/entity/Q5186964  \n",
              "\n",
              "[622 rows x 3 columns]"
            ]
          },
          "execution_count": 12,
          "metadata": {},
          "output_type": "execute_result"
        }
      ],
      "source": [
        "predictions = generate_predictions(rule4_query)\n",
        "predictions"
      ]
    },
    {
      "cell_type": "code",
      "execution_count": 13,
      "metadata": {
        "id": "BPOlzfBIrtsq"
      },
      "outputs": [],
      "source": [
        "rule5_query = \"\"\"CONSTRUCT { <http://www.wikidata.org/entity/Q189331> <http://www.wikidata.org/prop/direct/P2176> ?y }\n",
        "where {\n",
        "<http://www.wikidata.org/entity/Q190805> <http://www.wikidata.org/prop/direct/P2176> ?y\n",
        "MINUS { <http://www.wikidata.org/entity/Q189331> <http://www.wikidata.org/prop/direct/P2176> ?y }\n",
        "\n",
        "}\"\"\"\n"
      ]
    },
    {
      "cell_type": "code",
      "execution_count": 15,
      "metadata": {
        "colab": {
          "base_uri": "https://localhost:8080/",
          "height": 891
        },
        "id": "gt2449_wsJux",
        "outputId": "1e711cf4-4b01-4eb5-9a78-0ceb198c3756"
      },
      "outputs": [
        {
          "name": "stdout",
          "output_type": "stream",
          "text": [
            "CONSTRUCT { <http://www.wikidata.org/entity/Q189331> <http://www.wikidata.org/prop/direct/P2176> ?y }\n",
            "where {\n",
            "<http://www.wikidata.org/entity/Q190805> <http://www.wikidata.org/prop/direct/P2176> ?y\n",
            "MINUS { <http://www.wikidata.org/entity/Q189331> <http://www.wikidata.org/prop/direct/P2176> ?y }\n",
            "\n",
            "}\n"
          ]
        },
        {
          "data": {
            "text/html": [
              "<div>\n",
              "<style scoped>\n",
              "    .dataframe tbody tr th:only-of-type {\n",
              "        vertical-align: middle;\n",
              "    }\n",
              "\n",
              "    .dataframe tbody tr th {\n",
              "        vertical-align: top;\n",
              "    }\n",
              "\n",
              "    .dataframe thead th {\n",
              "        text-align: right;\n",
              "    }\n",
              "</style>\n",
              "<table border=\"1\" class=\"dataframe\">\n",
              "  <thead>\n",
              "    <tr style=\"text-align: right;\">\n",
              "      <th></th>\n",
              "      <th>Subject</th>\n",
              "      <th>Predicate</th>\n",
              "      <th>Object</th>\n",
              "    </tr>\n",
              "  </thead>\n",
              "  <tbody>\n",
              "    <tr>\n",
              "      <th>0</th>\n",
              "      <td>http://www.wikidata.org/entity/Q189331</td>\n",
              "      <td>http://www.wikidata.org/prop/direct/P2176</td>\n",
              "      <td>http://www.wikidata.org/entity/Q407431</td>\n",
              "    </tr>\n",
              "    <tr>\n",
              "      <th>1</th>\n",
              "      <td>http://www.wikidata.org/entity/Q189331</td>\n",
              "      <td>http://www.wikidata.org/prop/direct/P2176</td>\n",
              "      <td>http://www.wikidata.org/entity/Q420542</td>\n",
              "    </tr>\n",
              "    <tr>\n",
              "      <th>2</th>\n",
              "      <td>http://www.wikidata.org/entity/Q189331</td>\n",
              "      <td>http://www.wikidata.org/prop/direct/P2176</td>\n",
              "      <td>http://www.wikidata.org/entity/Q155472</td>\n",
              "    </tr>\n",
              "    <tr>\n",
              "      <th>3</th>\n",
              "      <td>http://www.wikidata.org/entity/Q189331</td>\n",
              "      <td>http://www.wikidata.org/prop/direct/P2176</td>\n",
              "      <td>http://www.wikidata.org/entity/Q48566757</td>\n",
              "    </tr>\n",
              "    <tr>\n",
              "      <th>4</th>\n",
              "      <td>http://www.wikidata.org/entity/Q189331</td>\n",
              "      <td>http://www.wikidata.org/prop/direct/P2176</td>\n",
              "      <td>http://www.wikidata.org/entity/Q415159</td>\n",
              "    </tr>\n",
              "    <tr>\n",
              "      <th>5</th>\n",
              "      <td>http://www.wikidata.org/entity/Q189331</td>\n",
              "      <td>http://www.wikidata.org/prop/direct/P2176</td>\n",
              "      <td>http://www.wikidata.org/entity/Q3221044</td>\n",
              "    </tr>\n",
              "    <tr>\n",
              "      <th>6</th>\n",
              "      <td>http://www.wikidata.org/entity/Q189331</td>\n",
              "      <td>http://www.wikidata.org/prop/direct/P2176</td>\n",
              "      <td>http://www.wikidata.org/entity/Q48566700</td>\n",
              "    </tr>\n",
              "    <tr>\n",
              "      <th>7</th>\n",
              "      <td>http://www.wikidata.org/entity/Q189331</td>\n",
              "      <td>http://www.wikidata.org/prop/direct/P2176</td>\n",
              "      <td>http://www.wikidata.org/entity/Q388801</td>\n",
              "    </tr>\n",
              "    <tr>\n",
              "      <th>8</th>\n",
              "      <td>http://www.wikidata.org/entity/Q189331</td>\n",
              "      <td>http://www.wikidata.org/prop/direct/P2176</td>\n",
              "      <td>http://www.wikidata.org/entity/Q412765</td>\n",
              "    </tr>\n",
              "    <tr>\n",
              "      <th>9</th>\n",
              "      <td>http://www.wikidata.org/entity/Q189331</td>\n",
              "      <td>http://www.wikidata.org/prop/direct/P2176</td>\n",
              "      <td>http://www.wikidata.org/entity/Q410237</td>\n",
              "    </tr>\n",
              "    <tr>\n",
              "      <th>10</th>\n",
              "      <td>http://www.wikidata.org/entity/Q189331</td>\n",
              "      <td>http://www.wikidata.org/prop/direct/P2176</td>\n",
              "      <td>http://www.wikidata.org/entity/Q48566808</td>\n",
              "    </tr>\n",
              "    <tr>\n",
              "      <th>11</th>\n",
              "      <td>http://www.wikidata.org/entity/Q189331</td>\n",
              "      <td>http://www.wikidata.org/prop/direct/P2176</td>\n",
              "      <td>http://www.wikidata.org/entity/Q668093</td>\n",
              "    </tr>\n",
              "    <tr>\n",
              "      <th>12</th>\n",
              "      <td>http://www.wikidata.org/entity/Q189331</td>\n",
              "      <td>http://www.wikidata.org/prop/direct/P2176</td>\n",
              "      <td>http://www.wikidata.org/entity/Q414462</td>\n",
              "    </tr>\n",
              "    <tr>\n",
              "      <th>13</th>\n",
              "      <td>http://www.wikidata.org/entity/Q189331</td>\n",
              "      <td>http://www.wikidata.org/prop/direct/P2176</td>\n",
              "      <td>http://www.wikidata.org/entity/Q18216</td>\n",
              "    </tr>\n",
              "    <tr>\n",
              "      <th>14</th>\n",
              "      <td>http://www.wikidata.org/entity/Q189331</td>\n",
              "      <td>http://www.wikidata.org/prop/direct/P2176</td>\n",
              "      <td>http://www.wikidata.org/entity/Q6457467</td>\n",
              "    </tr>\n",
              "    <tr>\n",
              "      <th>15</th>\n",
              "      <td>http://www.wikidata.org/entity/Q189331</td>\n",
              "      <td>http://www.wikidata.org/prop/direct/P2176</td>\n",
              "      <td>http://www.wikidata.org/entity/Q15623825</td>\n",
              "    </tr>\n",
              "  </tbody>\n",
              "</table>\n",
              "</div>"
            ],
            "text/plain": [
              "                                   Subject  \\\n",
              "0   http://www.wikidata.org/entity/Q189331   \n",
              "1   http://www.wikidata.org/entity/Q189331   \n",
              "2   http://www.wikidata.org/entity/Q189331   \n",
              "3   http://www.wikidata.org/entity/Q189331   \n",
              "4   http://www.wikidata.org/entity/Q189331   \n",
              "5   http://www.wikidata.org/entity/Q189331   \n",
              "6   http://www.wikidata.org/entity/Q189331   \n",
              "7   http://www.wikidata.org/entity/Q189331   \n",
              "8   http://www.wikidata.org/entity/Q189331   \n",
              "9   http://www.wikidata.org/entity/Q189331   \n",
              "10  http://www.wikidata.org/entity/Q189331   \n",
              "11  http://www.wikidata.org/entity/Q189331   \n",
              "12  http://www.wikidata.org/entity/Q189331   \n",
              "13  http://www.wikidata.org/entity/Q189331   \n",
              "14  http://www.wikidata.org/entity/Q189331   \n",
              "15  http://www.wikidata.org/entity/Q189331   \n",
              "\n",
              "                                    Predicate  \\\n",
              "0   http://www.wikidata.org/prop/direct/P2176   \n",
              "1   http://www.wikidata.org/prop/direct/P2176   \n",
              "2   http://www.wikidata.org/prop/direct/P2176   \n",
              "3   http://www.wikidata.org/prop/direct/P2176   \n",
              "4   http://www.wikidata.org/prop/direct/P2176   \n",
              "5   http://www.wikidata.org/prop/direct/P2176   \n",
              "6   http://www.wikidata.org/prop/direct/P2176   \n",
              "7   http://www.wikidata.org/prop/direct/P2176   \n",
              "8   http://www.wikidata.org/prop/direct/P2176   \n",
              "9   http://www.wikidata.org/prop/direct/P2176   \n",
              "10  http://www.wikidata.org/prop/direct/P2176   \n",
              "11  http://www.wikidata.org/prop/direct/P2176   \n",
              "12  http://www.wikidata.org/prop/direct/P2176   \n",
              "13  http://www.wikidata.org/prop/direct/P2176   \n",
              "14  http://www.wikidata.org/prop/direct/P2176   \n",
              "15  http://www.wikidata.org/prop/direct/P2176   \n",
              "\n",
              "                                      Object  \n",
              "0     http://www.wikidata.org/entity/Q407431  \n",
              "1     http://www.wikidata.org/entity/Q420542  \n",
              "2     http://www.wikidata.org/entity/Q155472  \n",
              "3   http://www.wikidata.org/entity/Q48566757  \n",
              "4     http://www.wikidata.org/entity/Q415159  \n",
              "5    http://www.wikidata.org/entity/Q3221044  \n",
              "6   http://www.wikidata.org/entity/Q48566700  \n",
              "7     http://www.wikidata.org/entity/Q388801  \n",
              "8     http://www.wikidata.org/entity/Q412765  \n",
              "9     http://www.wikidata.org/entity/Q410237  \n",
              "10  http://www.wikidata.org/entity/Q48566808  \n",
              "11    http://www.wikidata.org/entity/Q668093  \n",
              "12    http://www.wikidata.org/entity/Q414462  \n",
              "13     http://www.wikidata.org/entity/Q18216  \n",
              "14   http://www.wikidata.org/entity/Q6457467  \n",
              "15  http://www.wikidata.org/entity/Q15623825  "
            ]
          },
          "execution_count": 15,
          "metadata": {},
          "output_type": "execute_result"
        }
      ],
      "source": [
        "predictions= generate_predictions(rule5_query)\n",
        "predictions"
      ]
    },
    {
      "cell_type": "code",
      "execution_count": 17,
      "metadata": {
        "id": "fuubM0OtsxD2"
      },
      "outputs": [],
      "source": [
        "rule6_query = \"\"\"CONSTRUCT { <http://www.wikidata.org/entity/Q189331> <http://www.wikidata.org/prop/direct/P2176> ?y }\n",
        "where {\n",
        "<http://www.wikidata.org/entity/Q815819> <http://www.wikidata.org/prop/direct/P2176> ?y\n",
        "MINUS { <http://www.wikidata.org/entity/Q189331> <http://www.wikidata.org/prop/direct/P2176> ?y }\n",
        "\n",
        "}\"\"\"\n"
      ]
    },
    {
      "cell_type": "code",
      "execution_count": 18,
      "metadata": {
        "colab": {
          "base_uri": "https://localhost:8080/",
          "height": 766
        },
        "id": "sX-kXOzBs0GL",
        "outputId": "d7303ba1-72a7-43c5-f5d7-f02b6753c17f"
      },
      "outputs": [
        {
          "name": "stdout",
          "output_type": "stream",
          "text": [
            "CONSTRUCT { <http://www.wikidata.org/entity/Q189331> <http://www.wikidata.org/prop/direct/P2176> ?y }\n",
            "where {\n",
            "<http://www.wikidata.org/entity/Q815819> <http://www.wikidata.org/prop/direct/P2176> ?y\n",
            "MINUS { <http://www.wikidata.org/entity/Q189331> <http://www.wikidata.org/prop/direct/P2176> ?y }\n",
            "\n",
            "}\n"
          ]
        },
        {
          "data": {
            "text/html": [
              "<div>\n",
              "<style scoped>\n",
              "    .dataframe tbody tr th:only-of-type {\n",
              "        vertical-align: middle;\n",
              "    }\n",
              "\n",
              "    .dataframe tbody tr th {\n",
              "        vertical-align: top;\n",
              "    }\n",
              "\n",
              "    .dataframe thead th {\n",
              "        text-align: right;\n",
              "    }\n",
              "</style>\n",
              "<table border=\"1\" class=\"dataframe\">\n",
              "  <thead>\n",
              "    <tr style=\"text-align: right;\">\n",
              "      <th></th>\n",
              "      <th>Subject</th>\n",
              "      <th>Predicate</th>\n",
              "      <th>Object</th>\n",
              "    </tr>\n",
              "  </thead>\n",
              "  <tbody>\n",
              "    <tr>\n",
              "      <th>0</th>\n",
              "      <td>http://www.wikidata.org/entity/Q189331</td>\n",
              "      <td>http://www.wikidata.org/prop/direct/P2176</td>\n",
              "      <td>http://www.wikidata.org/entity/Q407431</td>\n",
              "    </tr>\n",
              "    <tr>\n",
              "      <th>1</th>\n",
              "      <td>http://www.wikidata.org/entity/Q189331</td>\n",
              "      <td>http://www.wikidata.org/prop/direct/P2176</td>\n",
              "      <td>http://www.wikidata.org/entity/Q410237</td>\n",
              "    </tr>\n",
              "    <tr>\n",
              "      <th>2</th>\n",
              "      <td>http://www.wikidata.org/entity/Q189331</td>\n",
              "      <td>http://www.wikidata.org/prop/direct/P2176</td>\n",
              "      <td>http://www.wikidata.org/entity/Q422229</td>\n",
              "    </tr>\n",
              "    <tr>\n",
              "      <th>3</th>\n",
              "      <td>http://www.wikidata.org/entity/Q189331</td>\n",
              "      <td>http://www.wikidata.org/prop/direct/P2176</td>\n",
              "      <td>http://www.wikidata.org/entity/Q411325</td>\n",
              "    </tr>\n",
              "    <tr>\n",
              "      <th>4</th>\n",
              "      <td>http://www.wikidata.org/entity/Q189331</td>\n",
              "      <td>http://www.wikidata.org/prop/direct/P2176</td>\n",
              "      <td>http://www.wikidata.org/entity/Q414462</td>\n",
              "    </tr>\n",
              "    <tr>\n",
              "      <th>5</th>\n",
              "      <td>http://www.wikidata.org/entity/Q189331</td>\n",
              "      <td>http://www.wikidata.org/prop/direct/P2176</td>\n",
              "      <td>http://www.wikidata.org/entity/Q410291</td>\n",
              "    </tr>\n",
              "    <tr>\n",
              "      <th>6</th>\n",
              "      <td>http://www.wikidata.org/entity/Q189331</td>\n",
              "      <td>http://www.wikidata.org/prop/direct/P2176</td>\n",
              "      <td>http://www.wikidata.org/entity/Q413591</td>\n",
              "    </tr>\n",
              "    <tr>\n",
              "      <th>7</th>\n",
              "      <td>http://www.wikidata.org/entity/Q189331</td>\n",
              "      <td>http://www.wikidata.org/prop/direct/P2176</td>\n",
              "      <td>http://www.wikidata.org/entity/Q48566757</td>\n",
              "    </tr>\n",
              "    <tr>\n",
              "      <th>8</th>\n",
              "      <td>http://www.wikidata.org/entity/Q189331</td>\n",
              "      <td>http://www.wikidata.org/prop/direct/P2176</td>\n",
              "      <td>http://www.wikidata.org/entity/Q18216</td>\n",
              "    </tr>\n",
              "    <tr>\n",
              "      <th>9</th>\n",
              "      <td>http://www.wikidata.org/entity/Q189331</td>\n",
              "      <td>http://www.wikidata.org/prop/direct/P2176</td>\n",
              "      <td>http://www.wikidata.org/entity/Q408637</td>\n",
              "    </tr>\n",
              "  </tbody>\n",
              "</table>\n",
              "</div>"
            ],
            "text/plain": [
              "                                  Subject  \\\n",
              "0  http://www.wikidata.org/entity/Q189331   \n",
              "1  http://www.wikidata.org/entity/Q189331   \n",
              "2  http://www.wikidata.org/entity/Q189331   \n",
              "3  http://www.wikidata.org/entity/Q189331   \n",
              "4  http://www.wikidata.org/entity/Q189331   \n",
              "5  http://www.wikidata.org/entity/Q189331   \n",
              "6  http://www.wikidata.org/entity/Q189331   \n",
              "7  http://www.wikidata.org/entity/Q189331   \n",
              "8  http://www.wikidata.org/entity/Q189331   \n",
              "9  http://www.wikidata.org/entity/Q189331   \n",
              "\n",
              "                                   Predicate  \\\n",
              "0  http://www.wikidata.org/prop/direct/P2176   \n",
              "1  http://www.wikidata.org/prop/direct/P2176   \n",
              "2  http://www.wikidata.org/prop/direct/P2176   \n",
              "3  http://www.wikidata.org/prop/direct/P2176   \n",
              "4  http://www.wikidata.org/prop/direct/P2176   \n",
              "5  http://www.wikidata.org/prop/direct/P2176   \n",
              "6  http://www.wikidata.org/prop/direct/P2176   \n",
              "7  http://www.wikidata.org/prop/direct/P2176   \n",
              "8  http://www.wikidata.org/prop/direct/P2176   \n",
              "9  http://www.wikidata.org/prop/direct/P2176   \n",
              "\n",
              "                                     Object  \n",
              "0    http://www.wikidata.org/entity/Q407431  \n",
              "1    http://www.wikidata.org/entity/Q410237  \n",
              "2    http://www.wikidata.org/entity/Q422229  \n",
              "3    http://www.wikidata.org/entity/Q411325  \n",
              "4    http://www.wikidata.org/entity/Q414462  \n",
              "5    http://www.wikidata.org/entity/Q410291  \n",
              "6    http://www.wikidata.org/entity/Q413591  \n",
              "7  http://www.wikidata.org/entity/Q48566757  \n",
              "8     http://www.wikidata.org/entity/Q18216  \n",
              "9    http://www.wikidata.org/entity/Q408637  "
            ]
          },
          "execution_count": 18,
          "metadata": {},
          "output_type": "execute_result"
        }
      ],
      "source": [
        "predictions= generate_predictions(rule6_query)\n",
        "predictions"
      ]
    },
    {
      "cell_type": "markdown",
      "metadata": {
        "id": "wHBtcWyel5G9"
      },
      "source": [
        "we try to combine rules to find prediction for \n",
        "```\n",
        "Triple 3: <http://www.wikidata.org/entity/Q189331> <http://www.wikidata.org/prop/direct/P2176> <http://www.wikidata.org/entity/Q408637>\n",
        "```\n"
      ]
    },
    {
      "cell_type": "markdown",
      "metadata": {
        "id": "2dDnLhKtp0M7"
      },
      "source": [
        "we could use rule combination, as described in Lecture 7. This aggregation of 2 rules with confidence scores X and Y respectively would be:\n",
        "Final Confidence score = (X+Y) – (X*Y)\n",
        "\n",
        "for example we can use following query to apply rule 1 and rule 2:\n",
        "\n",
        "```\n",
        "CONSTRUCT { <http://www.wikidata.org/entity/Q189331> <http://www.wikidata.org/prop/direct/P2176> ?y }\n",
        "where {\n",
        "?b <http://www.wikidata.org/prop/direct/P2176> ?y\n",
        "filter(?b=<http://www.wikidata.org/entity/Q593958> || ?b=<http://www.wikidata.org/entity/Q220570>)\n",
        "MINUS { <http://www.wikidata.org/entity/Q189331> <http://www.wikidata.org/prop/direct/P2176> ?y }\n",
        "}\n",
        "```"
      ]
    },
    {
      "cell_type": "markdown",
      "metadata": {
        "id": "0nJr6RfM1Hwh"
      },
      "source": [
        "For example we combined 2 high confidance rules(rule1 and rule2) as following."
      ]
    },
    {
      "cell_type": "code",
      "execution_count": 19,
      "metadata": {
        "id": "3z3EofT4ohEf"
      },
      "outputs": [],
      "source": [
        "rule12_query = \"\"\"CONSTRUCT { <http://www.wikidata.org/entity/Q189331> <http://www.wikidata.org/prop/direct/P2176> ?y }\n",
        "where {\n",
        "?b <http://www.wikidata.org/prop/direct/P2176> ?y\n",
        "filter(?b=<http://www.wikidata.org/entity/Q593958> || ?b=<http://www.wikidata.org/entity/Q220570> )\n",
        "MINUS { <http://www.wikidata.org/entity/Q189331> <http://www.wikidata.org/prop/direct/P2176> ?y }\n",
        "}\"\"\"\n"
      ]
    },
    {
      "cell_type": "code",
      "execution_count": 20,
      "metadata": {
        "colab": {
          "base_uri": "https://localhost:8080/",
          "height": 452
        },
        "id": "z9fmU3w7onL4",
        "outputId": "959c7e03-27db-4771-e7c0-85f14f819714"
      },
      "outputs": [
        {
          "name": "stdout",
          "output_type": "stream",
          "text": [
            "CONSTRUCT { <http://www.wikidata.org/entity/Q189331> <http://www.wikidata.org/prop/direct/P2176> ?y }\n",
            "where {\n",
            "?b <http://www.wikidata.org/prop/direct/P2176> ?y\n",
            "filter(?b=<http://www.wikidata.org/entity/Q593958> || ?b=<http://www.wikidata.org/entity/Q220570> )\n",
            "MINUS { <http://www.wikidata.org/entity/Q189331> <http://www.wikidata.org/prop/direct/P2176> ?y }\n",
            "}\n"
          ]
        },
        {
          "data": {
            "text/html": [
              "<div>\n",
              "<style scoped>\n",
              "    .dataframe tbody tr th:only-of-type {\n",
              "        vertical-align: middle;\n",
              "    }\n",
              "\n",
              "    .dataframe tbody tr th {\n",
              "        vertical-align: top;\n",
              "    }\n",
              "\n",
              "    .dataframe thead th {\n",
              "        text-align: right;\n",
              "    }\n",
              "</style>\n",
              "<table border=\"1\" class=\"dataframe\">\n",
              "  <thead>\n",
              "    <tr style=\"text-align: right;\">\n",
              "      <th></th>\n",
              "      <th>Subject</th>\n",
              "      <th>Predicate</th>\n",
              "      <th>Object</th>\n",
              "    </tr>\n",
              "  </thead>\n",
              "  <tbody>\n",
              "    <tr>\n",
              "      <th>0</th>\n",
              "      <td>http://www.wikidata.org/entity/Q189331</td>\n",
              "      <td>http://www.wikidata.org/prop/direct/P2176</td>\n",
              "      <td>http://www.wikidata.org/entity/Q407431</td>\n",
              "    </tr>\n",
              "    <tr>\n",
              "      <th>1</th>\n",
              "      <td>http://www.wikidata.org/entity/Q189331</td>\n",
              "      <td>http://www.wikidata.org/prop/direct/P2176</td>\n",
              "      <td>http://www.wikidata.org/entity/Q48566705</td>\n",
              "    </tr>\n",
              "    <tr>\n",
              "      <th>2</th>\n",
              "      <td>http://www.wikidata.org/entity/Q189331</td>\n",
              "      <td>http://www.wikidata.org/prop/direct/P2176</td>\n",
              "      <td>http://www.wikidata.org/entity/Q410237</td>\n",
              "    </tr>\n",
              "    <tr>\n",
              "      <th>3</th>\n",
              "      <td>http://www.wikidata.org/entity/Q189331</td>\n",
              "      <td>http://www.wikidata.org/prop/direct/P2176</td>\n",
              "      <td>http://www.wikidata.org/entity/Q45769835</td>\n",
              "    </tr>\n",
              "    <tr>\n",
              "      <th>4</th>\n",
              "      <td>http://www.wikidata.org/entity/Q189331</td>\n",
              "      <td>http://www.wikidata.org/prop/direct/P2176</td>\n",
              "      <td>http://www.wikidata.org/entity/Q414462</td>\n",
              "    </tr>\n",
              "  </tbody>\n",
              "</table>\n",
              "</div>"
            ],
            "text/plain": [
              "                                  Subject  \\\n",
              "0  http://www.wikidata.org/entity/Q189331   \n",
              "1  http://www.wikidata.org/entity/Q189331   \n",
              "2  http://www.wikidata.org/entity/Q189331   \n",
              "3  http://www.wikidata.org/entity/Q189331   \n",
              "4  http://www.wikidata.org/entity/Q189331   \n",
              "\n",
              "                                   Predicate  \\\n",
              "0  http://www.wikidata.org/prop/direct/P2176   \n",
              "1  http://www.wikidata.org/prop/direct/P2176   \n",
              "2  http://www.wikidata.org/prop/direct/P2176   \n",
              "3  http://www.wikidata.org/prop/direct/P2176   \n",
              "4  http://www.wikidata.org/prop/direct/P2176   \n",
              "\n",
              "                                     Object  \n",
              "0    http://www.wikidata.org/entity/Q407431  \n",
              "1  http://www.wikidata.org/entity/Q48566705  \n",
              "2    http://www.wikidata.org/entity/Q410237  \n",
              "3  http://www.wikidata.org/entity/Q45769835  \n",
              "4    http://www.wikidata.org/entity/Q414462  "
            ]
          },
          "execution_count": 20,
          "metadata": {},
          "output_type": "execute_result"
        }
      ],
      "source": [
        "predictions= generate_predictions(rule12_query)\n",
        "predictions"
      ]
    },
    {
      "cell_type": "markdown",
      "metadata": {
        "id": "CfgkOPfnsksW"
      },
      "source": [
        "finally you can find some selected rules regarding each test set in selected-rules-for-each-group.txt file."
      ]
    },
    {
      "cell_type": "code",
      "execution_count": null,
      "metadata": {
        "id": "FPF_VscIDjGc"
      },
      "outputs": [],
      "source": [
        "\n"
      ]
    }
  ],
  "metadata": {
    "colab": {
      "collapsed_sections": [],
      "name": "Task1-wiki_bio_rulemining.ipynb",
      "provenance": []
    },
    "kernelspec": {
      "display_name": "Python 3",
      "language": "python",
      "name": "python3"
    },
    "language_info": {
      "codemirror_mode": {
        "name": "ipython",
        "version": 3
      },
      "file_extension": ".py",
      "mimetype": "text/x-python",
      "name": "python",
      "nbconvert_exporter": "python",
      "pygments_lexer": "ipython3",
      "version": "3.8.3"
    }
  },
  "nbformat": 4,
  "nbformat_minor": 0
}
